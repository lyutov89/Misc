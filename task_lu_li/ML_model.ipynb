{
 "cells": [
  {
   "cell_type": "code",
   "execution_count": 226,
   "id": "0044eeec",
   "metadata": {},
   "outputs": [],
   "source": [
    "import pandas as pd\n",
    "import numpy as np\n",
    "import matplotlib as mp\n",
    "import lightgbm as lgb\n",
    "import time\n",
    "import seaborn as sns\n",
    "import matplotlib.pyplot as plt\n",
    "%matplotlib inline\n",
    "import scipy.stats as st\n",
    "from scipy.stats import probplot, ks_2samp\n",
    "from sklearn.model_selection import KFold, StratifiedKFold, train_test_split, cross_val_score\n",
    "from sklearn.metrics import (roc_auc_score, recall_score, accuracy_score, auc, classification_report, \\\n",
    "                            confusion_matrix, plot_confusion_matrix, precision_recall_curve, \\\n",
    "                            plot_precision_recall_curve, roc_curve, plot_roc_curve)"
   ]
  },
  {
   "cell_type": "code",
   "execution_count": 227,
   "id": "59614790",
   "metadata": {},
   "outputs": [],
   "source": [
    "import numpy as np\n",
    "import pandas as pd\n",
    "import xgboost as xgb\n",
    "import matplotlib.pyplot as plt\n",
    "\n",
    "from sklearn.model_selection import train_test_split\n",
    "from sklearn.metrics import f1_score\n",
    "from sklearn.metrics import (roc_auc_score, roc_curve, auc, accuracy_score, confusion_matrix, \\\n",
    "                             classification_report, plot_confusion_matrix, recall_score, \\\n",
    "                             plot_precision_recall_curve, precision_recall_curve, plot_roc_curve)"
   ]
  },
  {
   "cell_type": "code",
   "execution_count": 228,
   "id": "282c101a",
   "metadata": {},
   "outputs": [],
   "source": [
    "import catboost as cb\n",
    "import matplotlib.pyplot as plt\n",
    "\n",
    "from sklearn.model_selection import train_test_split"
   ]
  },
  {
   "cell_type": "code",
   "execution_count": 229,
   "id": "8be9a707",
   "metadata": {},
   "outputs": [],
   "source": [
    "from sklearn.preprocessing import LabelEncoder\n",
    "import lightgbm as lgb"
   ]
  },
  {
   "cell_type": "code",
   "execution_count": 230,
   "id": "33358dee",
   "metadata": {},
   "outputs": [],
   "source": [
    "import warnings\n",
    "warnings.simplefilter(action='ignore', category=FutureWarning)"
   ]
  },
  {
   "cell_type": "code",
   "execution_count": 231,
   "id": "d8bf1b7f",
   "metadata": {},
   "outputs": [],
   "source": [
    "test = pd.read_csv('C:/Users/Anatoly/Desktop/Тестовое задание LICARD DS/DATA/contest_test.csv')"
   ]
  },
  {
   "cell_type": "code",
   "execution_count": 232,
   "id": "b1fb05ad",
   "metadata": {},
   "outputs": [],
   "source": [
    "train = pd.read_csv('C:/Users/Anatoly/Desktop/Тестовое задание LICARD DS/DATA/contest_train.csv')"
   ]
  },
  {
   "cell_type": "code",
   "execution_count": 233,
   "id": "1b42ab68",
   "metadata": {},
   "outputs": [],
   "source": [
    "def clean_input(data) -> pd.DataFrame:\n",
    "    \"\"\"\n",
    "    Перевод названий колонок в нижний регистр и вывод основной информации о наборе данных\n",
    "\n",
    "    Parameters\n",
    "    ----------\n",
    "    data: Pandas DataFrame\n",
    "\n",
    "    Returns\n",
    "    -------\n",
    "    data: pandas.core.frame.DataFrame\n",
    "        Загруженный набор данных в pandas.DataFrame\n",
    "\n",
    "    \"\"\"\n",
    "    #base_path = \"data\"\n",
    "    #data = pd.read_csv(f\"{base_path}/{data_path}\")\n",
    "    # Приводим все названия колонок к нижнему регистру\n",
    "    data.columns = [col.lower() for col in data.columns]\n",
    "    #print(f\"{data_path}: shape = {data.shape[0]} rows, {data.shape[1]} cols\")\n",
    "    print(f\"shape = {data.shape[0]} rows, {data.shape[1]} cols\")\n",
    "\n",
    "    return data"
   ]
  },
  {
   "cell_type": "code",
   "execution_count": 234,
   "id": "b6add014",
   "metadata": {},
   "outputs": [
    {
     "name": "stdout",
     "output_type": "stream",
     "text": [
      "shape = 18390 rows, 262 cols\n",
      "shape = 6131 rows, 261 cols\n"
     ]
    }
   ],
   "source": [
    "train = clean_input(train)\n",
    "test = clean_input(test)"
   ]
  },
  {
   "cell_type": "markdown",
   "id": "de56a75e",
   "metadata": {},
   "source": [
    "## Удаление лишних столбцов"
   ]
  },
  {
   "cell_type": "code",
   "execution_count": 235,
   "id": "5f0f5753",
   "metadata": {},
   "outputs": [],
   "source": [
    "numerical_features = train.select_dtypes(include=[np.number])"
   ]
  },
  {
   "cell_type": "code",
   "execution_count": 236,
   "id": "b927325e",
   "metadata": {},
   "outputs": [
    {
     "name": "stdout",
     "output_type": "stream",
     "text": [
      "Discrete Variables Count: 50\n"
     ]
    }
   ],
   "source": [
    "discrete_feature = [\n",
    "    feature for feature in numerical_features\n",
    "    if len(train[feature].unique())<25 \n",
    "]\n",
    "\n",
    "print(f\"Discrete Variables Count: {len(discrete_feature)}\")"
   ]
  },
  {
   "cell_type": "code",
   "execution_count": 237,
   "id": "367c2408",
   "metadata": {},
   "outputs": [
    {
     "name": "stdout",
     "output_type": "stream",
     "text": [
      "Continuous Feature Count 212\n"
     ]
    }
   ],
   "source": [
    "continuous_feature = [\n",
    "    feature for feature in numerical_features\n",
    "    if feature not in discrete_feature + [\"ID\"]]\n",
    "\n",
    "print(f\"Continuous Feature Count {len(continuous_feature)}\")"
   ]
  },
  {
   "cell_type": "code",
   "execution_count": 238,
   "id": "817e628d",
   "metadata": {},
   "outputs": [],
   "source": [
    "train_con = train[continuous_feature]"
   ]
  },
  {
   "cell_type": "code",
   "execution_count": 239,
   "id": "477a2ab3",
   "metadata": {},
   "outputs": [],
   "source": [
    "test_con = test[continuous_feature]"
   ]
  },
  {
   "cell_type": "code",
   "execution_count": 240,
   "id": "29b0f4bd",
   "metadata": {},
   "outputs": [],
   "source": [
    "train_descr = train[discrete_feature]"
   ]
  },
  {
   "cell_type": "code",
   "execution_count": 241,
   "id": "53c6294b",
   "metadata": {},
   "outputs": [],
   "source": [
    "test_descr = test[continuous_feature]"
   ]
  },
  {
   "cell_type": "code",
   "execution_count": 242,
   "id": "e9317bd5",
   "metadata": {},
   "outputs": [],
   "source": [
    "feature_0 = []\n",
    "\n",
    "for feat in numerical_features: \n",
    "    if (len(train[feat].unique()) == 1) and (len(test[feat].unique()) == 1) and (train[feat].unique() == 0): \n",
    "        feature_0.append(feat)"
   ]
  },
  {
   "cell_type": "code",
   "execution_count": 243,
   "id": "33041e6a",
   "metadata": {},
   "outputs": [
    {
     "data": {
      "text/plain": [
       "['feature_3', 'feature_144', 'feature_249', 'feature_256']"
      ]
     },
     "execution_count": 243,
     "metadata": {},
     "output_type": "execute_result"
    }
   ],
   "source": [
    "feature_0"
   ]
  },
  {
   "cell_type": "code",
   "execution_count": 244,
   "id": "b925603d",
   "metadata": {},
   "outputs": [],
   "source": [
    "# Также отберем и впоследствии удалим те бинарные фичи (0-1), в которых отношение нулевых признаков к единичным более 90%"
   ]
  },
  {
   "cell_type": "code",
   "execution_count": 245,
   "id": "f3fcdd5f",
   "metadata": {},
   "outputs": [],
   "source": [
    "threshold = train.shape[0]*0.9"
   ]
  },
  {
   "cell_type": "code",
   "execution_count": 246,
   "id": "64780567",
   "metadata": {},
   "outputs": [
    {
     "data": {
      "text/plain": [
       "16551.0"
      ]
     },
     "execution_count": 246,
     "metadata": {},
     "output_type": "execute_result"
    }
   ],
   "source": [
    "threshold"
   ]
  },
  {
   "cell_type": "code",
   "execution_count": 247,
   "id": "edf57701",
   "metadata": {},
   "outputs": [],
   "source": [
    "feature_90 = []"
   ]
  },
  {
   "cell_type": "code",
   "execution_count": 248,
   "id": "c65cf1e8",
   "metadata": {},
   "outputs": [],
   "source": [
    "for feat in discrete_feature:\n",
    "    try:\n",
    "        if train_descr[feat].value_counts()[0] > threshold: \n",
    "            feature_90.append(feat) \n",
    "    except KeyError as ke: \n",
    "        continue"
   ]
  },
  {
   "cell_type": "code",
   "execution_count": 249,
   "id": "a394affe",
   "metadata": {},
   "outputs": [],
   "source": [
    "feature_90 = list(set(feature_90))"
   ]
  },
  {
   "cell_type": "code",
   "execution_count": 250,
   "id": "4f6d09b7",
   "metadata": {},
   "outputs": [
    {
     "data": {
      "text/plain": [
       "['feature_6',\n",
       " 'feature_256',\n",
       " 'feature_5',\n",
       " 'feature_157',\n",
       " 'feature_140',\n",
       " 'feature_2',\n",
       " 'feature_31',\n",
       " 'feature_32',\n",
       " 'feature_144',\n",
       " 'feature_159',\n",
       " 'feature_249',\n",
       " 'feature_3',\n",
       " 'feature_156',\n",
       " 'feature_20']"
      ]
     },
     "execution_count": 250,
     "metadata": {},
     "output_type": "execute_result"
    }
   ],
   "source": [
    "feature_90 "
   ]
  },
  {
   "cell_type": "code",
   "execution_count": 251,
   "id": "92887ce8",
   "metadata": {},
   "outputs": [],
   "source": [
    "for feat in continuous_feature:\n",
    "    try:\n",
    "        if train_con[feat].value_counts()[0] > threshold: \n",
    "            feature_90.append(feat) \n",
    "    except KeyError as ke: \n",
    "        continue"
   ]
  },
  {
   "cell_type": "code",
   "execution_count": 252,
   "id": "ff82db8d",
   "metadata": {},
   "outputs": [
    {
     "data": {
      "text/plain": [
       "['feature_6',\n",
       " 'feature_256',\n",
       " 'feature_5',\n",
       " 'feature_157',\n",
       " 'feature_140',\n",
       " 'feature_2',\n",
       " 'feature_31',\n",
       " 'feature_32',\n",
       " 'feature_144',\n",
       " 'feature_159',\n",
       " 'feature_249',\n",
       " 'feature_3',\n",
       " 'feature_156',\n",
       " 'feature_20',\n",
       " 'feature_22',\n",
       " 'feature_25',\n",
       " 'feature_27',\n",
       " 'feature_28',\n",
       " 'feature_29',\n",
       " 'feature_30',\n",
       " 'feature_39',\n",
       " 'feature_40',\n",
       " 'feature_41',\n",
       " 'feature_42',\n",
       " 'feature_43',\n",
       " 'feature_44',\n",
       " 'feature_75',\n",
       " 'feature_139',\n",
       " 'feature_141',\n",
       " 'feature_145',\n",
       " 'feature_146',\n",
       " 'feature_176',\n",
       " 'feature_200',\n",
       " 'feature_201',\n",
       " 'feature_202',\n",
       " 'feature_229',\n",
       " 'feature_231',\n",
       " 'feature_246']"
      ]
     },
     "execution_count": 252,
     "metadata": {},
     "output_type": "execute_result"
    }
   ],
   "source": [
    "feature_90 "
   ]
  },
  {
   "cell_type": "code",
   "execution_count": 253,
   "id": "d061a083",
   "metadata": {},
   "outputs": [],
   "source": [
    "similar_feature = [#\"feature_209\",\n",
    "                  \"feature_210\", \"feature_211\", \n",
    "                  \"feature_212\", \"feature_213\", \n",
    "                  \"feature_214\"]\n",
    "#or to delete?\n",
    "# какой-то один признак нужно обязательно оставить. Например \"feature_209\""
   ]
  },
  {
   "cell_type": "code",
   "execution_count": 254,
   "id": "0125dadb",
   "metadata": {},
   "outputs": [],
   "source": [
    "train = train.drop(feature_90, axis=1)\n",
    "test = test.drop(feature_90, axis=1)"
   ]
  },
  {
   "cell_type": "code",
   "execution_count": 255,
   "id": "641c0b6f",
   "metadata": {},
   "outputs": [],
   "source": [
    "train = train.drop(similar_feature, axis=1)\n",
    "test = test.drop(similar_feature, axis=1)"
   ]
  },
  {
   "cell_type": "code",
   "execution_count": 256,
   "id": "b5cc0d8a",
   "metadata": {},
   "outputs": [
    {
     "data": {
      "text/plain": [
       "((18390, 219), (6131, 218))"
      ]
     },
     "execution_count": 256,
     "metadata": {},
     "output_type": "execute_result"
    }
   ],
   "source": [
    "train.shape, test.shape"
   ]
  },
  {
   "cell_type": "markdown",
   "id": "46497e18",
   "metadata": {},
   "source": [
    "## Feature engineering"
   ]
  },
  {
   "cell_type": "code",
   "execution_count": 257,
   "id": "468a82e8",
   "metadata": {},
   "outputs": [],
   "source": [
    "# Cнова взглянем на обновленный датасет. "
   ]
  },
  {
   "cell_type": "code",
   "execution_count": 338,
   "id": "5a35213e",
   "metadata": {},
   "outputs": [],
   "source": [
    "# Раскомментируйте ячейку ниже для просмотра графиков фичей."
   ]
  },
  {
   "cell_type": "code",
   "execution_count": 337,
   "id": "7531b8f9",
   "metadata": {},
   "outputs": [],
   "source": [
    "#for i in range(14):\n",
    "#    fig, axes = plt.subplots(4, 4, figsize=(15, 15))\n",
    "\n",
    "#    for num, feature in enumerate(train.iloc[:, i*16:(i+1)*16]):\n",
    "#        data_train = train[feature].copy()\n",
    "#        axes[num//4, num%4].hist(data_train, bins=25)\n",
    "#        axes[num//4, num%4].set_xlabel(feature, fontsize=12)"
   ]
  },
  {
   "cell_type": "code",
   "execution_count": 262,
   "id": "457e15f0",
   "metadata": {},
   "outputs": [],
   "source": [
    "#Бросается в глаза наличие большого кол-ва дублей. Надо найти способ как их удалить.\n",
    "#Есть и лог-норальные распределения. Видны выбросы. Подумать, что с ними делать"
   ]
  },
  {
   "cell_type": "markdown",
   "id": "fcd17e9d",
   "metadata": {},
   "source": [
    "## Признаки к удалению (без смысловой нагрузки)"
   ]
  },
  {
   "cell_type": "code",
   "execution_count": 267,
   "id": "b7f173c1",
   "metadata": {},
   "outputs": [],
   "source": [
    "list_16_19 = [15, 16, 18, 19, 76, 151, 152, 184, 234, 241, 245, 247]"
   ]
  },
  {
   "cell_type": "code",
   "execution_count": 268,
   "id": "3a359cf8",
   "metadata": {
    "tags": []
   },
   "outputs": [
    {
     "name": "stdout",
     "output_type": "stream",
     "text": [
      "0.0    0.873083\n",
      "1.0    0.126917\n",
      "Name: feature_15, dtype: float64\n",
      "0.0    0.876291\n",
      "1.0    0.123709\n",
      "Name: feature_16, dtype: float64\n",
      "0.0    0.883034\n",
      "1.0    0.116966\n",
      "Name: feature_18, dtype: float64\n",
      "0.0    0.876563\n",
      "1.0    0.123437\n",
      "Name: feature_19, dtype: float64\n",
      "0.000000     0.415334\n",
      "0.032258     0.130614\n",
      "0.064516     0.063078\n",
      "0.096774     0.049973\n",
      "0.129032     0.034856\n",
      "               ...   \n",
      "31.290323    0.000054\n",
      "0.266667     0.000054\n",
      "10.258065    0.000054\n",
      "11.645161    0.000054\n",
      "0.833333     0.000054\n",
      "Name: feature_76, Length: 404, dtype: float64\n",
      "0.0     0.945551\n",
      "1.0     0.047265\n",
      "2.0     0.006459\n",
      "3.0     0.000362\n",
      "4.0     0.000241\n",
      "18.0    0.000060\n",
      "5.0     0.000060\n",
      "Name: feature_151, dtype: float64\n",
      "0.0     0.938428\n",
      "1.0     0.053181\n",
      "2.0     0.006882\n",
      "3.0     0.000845\n",
      "4.0     0.000362\n",
      "6.0     0.000121\n",
      "24.0    0.000060\n",
      "46.0    0.000060\n",
      "5.0     0.000060\n",
      "Name: feature_152, dtype: float64\n",
      "1.0     0.953235\n",
      "2.0     0.019956\n",
      "3.0     0.009679\n",
      "4.0     0.004187\n",
      "5.0     0.002828\n",
      "6.0     0.002175\n",
      "7.0     0.001196\n",
      "9.0     0.000707\n",
      "10.0    0.000653\n",
      "8.0     0.000598\n",
      "12.0    0.000435\n",
      "14.0    0.000381\n",
      "16.0    0.000381\n",
      "19.0    0.000326\n",
      "17.0    0.000326\n",
      "21.0    0.000272\n",
      "11.0    0.000272\n",
      "15.0    0.000272\n",
      "36.0    0.000218\n",
      "24.0    0.000218\n",
      "18.0    0.000163\n",
      "13.0    0.000163\n",
      "29.0    0.000163\n",
      "30.0    0.000163\n",
      "39.0    0.000163\n",
      "35.0    0.000109\n",
      "23.0    0.000109\n",
      "40.0    0.000109\n",
      "25.0    0.000109\n",
      "34.0    0.000054\n",
      "27.0    0.000054\n",
      "20.0    0.000054\n",
      "33.0    0.000054\n",
      "28.0    0.000054\n",
      "31.0    0.000054\n",
      "22.0    0.000054\n",
      "42.0    0.000054\n",
      "Name: feature_184, dtype: float64\n",
      "0.0      0.889505\n",
      "1.0      0.020663\n",
      "2.0      0.010277\n",
      "3.0      0.006525\n",
      "4.0      0.005220\n",
      "           ...   \n",
      "168.0    0.000054\n",
      "445.0    0.000054\n",
      "491.0    0.000054\n",
      "311.0    0.000054\n",
      "416.0    0.000054\n",
      "Name: feature_234, Length: 307, dtype: float64\n",
      "0.0      0.873464\n",
      "3.0      0.008102\n",
      "8.0      0.004894\n",
      "1.0      0.004676\n",
      "6.0      0.004241\n",
      "           ...   \n",
      "488.0    0.000054\n",
      "370.0    0.000054\n",
      "352.0    0.000054\n",
      "314.0    0.000054\n",
      "188.0    0.000054\n",
      "Name: feature_241, Length: 363, dtype: float64\n",
      "0.0      0.873518\n",
      "3.0      0.008102\n",
      "8.0      0.004894\n",
      "1.0      0.004676\n",
      "6.0      0.004241\n",
      "           ...   \n",
      "488.0    0.000054\n",
      "370.0    0.000054\n",
      "352.0    0.000054\n",
      "314.0    0.000054\n",
      "188.0    0.000054\n",
      "Name: feature_245, Length: 363, dtype: float64\n",
      "0.0      0.843339\n",
      "3.0      0.024361\n",
      "8.0      0.009951\n",
      "6.0      0.008809\n",
      "1.0      0.007504\n",
      "           ...   \n",
      "378.0    0.000054\n",
      "245.0    0.000054\n",
      "246.0    0.000054\n",
      "264.0    0.000054\n",
      "96.0     0.000054\n",
      "Name: feature_247, Length: 276, dtype: float64\n"
     ]
    }
   ],
   "source": [
    "for ind in list_16_19: \n",
    "    print(train[f'feature_{ind}'].value_counts(normalize=True))"
   ]
  },
  {
   "cell_type": "markdown",
   "id": "d1986baa",
   "metadata": {},
   "source": [
    "`Вывод`: удалить признаки из листа. Оставить хотя бы один (например номер 17)"
   ]
  },
  {
   "cell_type": "code",
   "execution_count": 269,
   "id": "bc0648e4",
   "metadata": {},
   "outputs": [],
   "source": [
    "feature_16_19_list = ['feature_'+str(i) for i in list_16_19]"
   ]
  },
  {
   "cell_type": "code",
   "execution_count": 270,
   "id": "342b3d6d",
   "metadata": {},
   "outputs": [
    {
     "data": {
      "text/plain": [
       "['feature_15',\n",
       " 'feature_16',\n",
       " 'feature_18',\n",
       " 'feature_19',\n",
       " 'feature_76',\n",
       " 'feature_151',\n",
       " 'feature_152',\n",
       " 'feature_184',\n",
       " 'feature_234',\n",
       " 'feature_241',\n",
       " 'feature_245',\n",
       " 'feature_247']"
      ]
     },
     "execution_count": 270,
     "metadata": {},
     "output_type": "execute_result"
    }
   ],
   "source": [
    "feature_16_19_list"
   ]
  },
  {
   "cell_type": "code",
   "execution_count": 271,
   "id": "505773d1",
   "metadata": {},
   "outputs": [],
   "source": [
    "train = train.drop(feature_16_19_list, axis=1)\n",
    "test = test.drop(feature_16_19_list, axis=1)"
   ]
  },
  {
   "cell_type": "code",
   "execution_count": 272,
   "id": "c9bf813b",
   "metadata": {},
   "outputs": [
    {
     "data": {
      "text/plain": [
       "((18390, 207), (6131, 206))"
      ]
     },
     "execution_count": 272,
     "metadata": {},
     "output_type": "execute_result"
    }
   ],
   "source": [
    "train.shape, test.shape"
   ]
  },
  {
   "cell_type": "markdown",
   "id": "a9c6f179",
   "metadata": {},
   "source": [
    "## features_187-192"
   ]
  },
  {
   "cell_type": "code",
   "execution_count": 273,
   "id": "7d28dc07",
   "metadata": {},
   "outputs": [
    {
     "data": {
      "text/plain": [
       "<AxesSubplot:xlabel='feature_187', ylabel='Density'>"
      ]
     },
     "execution_count": 273,
     "metadata": {},
     "output_type": "execute_result"
    },
    {
     "data": {
      "image/png": "[encoded data removed]",
      "text/plain": [
       "<Figure size 432x288 with 1 Axes>"
      ]
     },
     "metadata": {
      "needs_background": "light"
     },
     "output_type": "display_data"
    }
   ],
   "source": [
    "sns.kdeplot(train['feature_187'], color='orange')\n",
    "sns.kdeplot(train['feature_190'], color='purple')\n",
    "sns.kdeplot(train['feature_191'], color='green')\n",
    "sns.kdeplot(train['feature_193'], color='blue')\n",
    "sns.kdeplot(train['feature_192'], color='red')"
   ]
  },
  {
   "cell_type": "code",
   "execution_count": 274,
   "id": "7bf68690",
   "metadata": {},
   "outputs": [],
   "source": [
    "train_187_192 = train[['feature_187', 'feature_190', 'feature_191', 'feature_192', 'feature_193']]"
   ]
  },
  {
   "cell_type": "code",
   "execution_count": 275,
   "id": "a054337e",
   "metadata": {},
   "outputs": [],
   "source": [
    "cor_1 = train_187_192.corr()"
   ]
  },
  {
   "cell_type": "code",
   "execution_count": 276,
   "id": "1fc9d106",
   "metadata": {},
   "outputs": [
    {
     "data": {
      "text/plain": [
       "<AxesSubplot:title={'center':'Correlation of Numeric Features'}>"
      ]
     },
     "execution_count": 276,
     "metadata": {},
     "output_type": "execute_result"
    },
    {
     "data": {
      "image/png": "[encoded data removed]",
      "text/plain": [
       "<Figure size 1008x864 with 2 Axes>"
      ]
     },
     "metadata": {
      "needs_background": "light"
     },
     "output_type": "display_data"
    }
   ],
   "source": [
    "fig, axes = plt.subplots(figsize = (14,12))\n",
    "plt.title(\"Correlation of Numeric Features\", y=1, size=16)\n",
    "sns.heatmap(cor_1,\n",
    "    vmax=.8,\n",
    "    linewidths=0.01,\n",
    "    cmap=\"viridis\",\n",
    "    square=True,\n",
    "    annot=True,\n",
    "    linecolor=\"white\",\n",
    "    annot_kws = {\"size\": 12}\n",
    ")"
   ]
  },
  {
   "cell_type": "code",
   "execution_count": 277,
   "id": "c1b19cad",
   "metadata": {},
   "outputs": [],
   "source": [
    "train = train.drop(['feature_190', 'feature_191', 'feature_192', 'feature_193'], axis=1)\n",
    "test = test.drop(['feature_190', 'feature_191', 'feature_192', 'feature_193'], axis=1)"
   ]
  },
  {
   "cell_type": "code",
   "execution_count": 278,
   "id": "732da4cc",
   "metadata": {},
   "outputs": [
    {
     "data": {
      "text/plain": [
       "((18390, 203), (6131, 202))"
      ]
     },
     "execution_count": 278,
     "metadata": {},
     "output_type": "execute_result"
    }
   ],
   "source": [
    "#оставили фичу 187\n",
    "train.shape, test.shape"
   ]
  },
  {
   "cell_type": "markdown",
   "id": "90cefd48",
   "metadata": {},
   "source": [
    "## features_127-138"
   ]
  },
  {
   "cell_type": "code",
   "execution_count": 279,
   "id": "4e0a820a",
   "metadata": {},
   "outputs": [],
   "source": [
    "train_127_138 = train[['feature_127', 'feature_128', 'feature_129', 'feature_130', 'feature_131', \n",
    "                      'feature_132', 'feature_133', 'feature_134', 'feature_135', 'feature_136', \n",
    "                      'feature_137', 'feature_138']]"
   ]
  },
  {
   "cell_type": "code",
   "execution_count": 280,
   "id": "7dc3eeba",
   "metadata": {},
   "outputs": [],
   "source": [
    "cor_2 = train_127_138.corr()"
   ]
  },
  {
   "cell_type": "code",
   "execution_count": 281,
   "id": "e5b64a09",
   "metadata": {},
   "outputs": [
    {
     "data": {
      "text/plain": [
       "<AxesSubplot:title={'center':'Correlation of Numeric Features'}>"
      ]
     },
     "execution_count": 281,
     "metadata": {},
     "output_type": "execute_result"
    },
    {
     "data": {
      "image/png": "[encoded data removed]",
      "text/plain": [
       "<Figure size 1008x864 with 2 Axes>"
      ]
     },
     "metadata": {
      "needs_background": "light"
     },
     "output_type": "display_data"
    }
   ],
   "source": [
    "fig, axes = plt.subplots(figsize = (14,12))\n",
    "plt.title(\"Correlation of Numeric Features\", y=1, size=16)\n",
    "sns.heatmap(cor_2,\n",
    "    vmax=.8,\n",
    "    linewidths=0.01,\n",
    "    cmap=\"viridis\",\n",
    "    square=True,\n",
    "    annot=True,\n",
    "    linecolor=\"white\",\n",
    "    annot_kws = {\"size\": 12}\n",
    ")"
   ]
  },
  {
   "cell_type": "code",
   "execution_count": 282,
   "id": "553e115e",
   "metadata": {},
   "outputs": [],
   "source": [
    "#интересная картина - два признака очень сильно между собой коррелируют, а третий из этого квадрата коррелируют только с первым."
   ]
  },
  {
   "cell_type": "code",
   "execution_count": 284,
   "id": "7f229e7e",
   "metadata": {},
   "outputs": [
    {
     "data": {
      "text/plain": [
       "<AxesSubplot:xlabel='feature_128', ylabel='Density'>"
      ]
     },
     "execution_count": 284,
     "metadata": {},
     "output_type": "execute_result"
    },
    {
     "data": {
      "image/png": "[encoded data removed]",
      "text/plain": [
       "<Figure size 432x288 with 1 Axes>"
      ]
     },
     "metadata": {
      "needs_background": "light"
     },
     "output_type": "display_data"
    }
   ],
   "source": [
    "sns.kdeplot(train['feature_128'], color='orange')\n",
    "sns.kdeplot(train['feature_129'], color='purple')\n",
    "sns.kdeplot(train['feature_130'], color='green')"
   ]
  },
  {
   "cell_type": "code",
   "execution_count": 285,
   "id": "3e3ca074",
   "metadata": {},
   "outputs": [
    {
     "data": {
      "text/plain": [
       "<AxesSubplot:xlabel='feature_132', ylabel='Density'>"
      ]
     },
     "execution_count": 285,
     "metadata": {},
     "output_type": "execute_result"
    },
    {
     "data": {
      "image/png": "[encoded data removed]",
      "text/plain": [
       "<Figure size 432x288 with 1 Axes>"
      ]
     },
     "metadata": {
      "needs_background": "light"
     },
     "output_type": "display_data"
    }
   ],
   "source": [
    "sns.kdeplot(train['feature_132'], color='orange')\n",
    "sns.kdeplot(train['feature_133'], color='purple')\n",
    "sns.kdeplot(train['feature_134'], color='green')"
   ]
  },
  {
   "cell_type": "code",
   "execution_count": 286,
   "id": "737149f9",
   "metadata": {},
   "outputs": [
    {
     "data": {
      "text/plain": [
       "<AxesSubplot:xlabel='feature_136', ylabel='Density'>"
      ]
     },
     "execution_count": 286,
     "metadata": {},
     "output_type": "execute_result"
    },
    {
     "data": {
      "image/png": "[encoded data removed]",
      "text/plain": [
       "<Figure size 432x288 with 1 Axes>"
      ]
     },
     "metadata": {
      "needs_background": "light"
     },
     "output_type": "display_data"
    }
   ],
   "source": [
    "sns.kdeplot(train['feature_136'], color='orange')\n",
    "sns.kdeplot(train['feature_137'], color='purple')\n",
    "sns.kdeplot(train['feature_138'], color='green')"
   ]
  },
  {
   "cell_type": "code",
   "execution_count": 287,
   "id": "a40eee75",
   "metadata": {},
   "outputs": [],
   "source": [
    "# удаляем 132, 128, 136"
   ]
  },
  {
   "cell_type": "code",
   "execution_count": 288,
   "id": "c39d0517",
   "metadata": {},
   "outputs": [],
   "source": [
    "train = train.drop(['feature_132', 'feature_128', 'feature_136'], axis=1)\n",
    "test = test.drop(['feature_132', 'feature_128', 'feature_136'], axis=1)"
   ]
  },
  {
   "cell_type": "markdown",
   "id": "6ded280a",
   "metadata": {},
   "source": [
    "## features_45-52"
   ]
  },
  {
   "cell_type": "code",
   "execution_count": 289,
   "id": "c2a55b03",
   "metadata": {},
   "outputs": [],
   "source": [
    "train_45_52 = train[['feature_45', 'feature_46', 'feature_47', 'feature_48', 'feature_49', \n",
    "                      'feature_50', 'feature_51', 'feature_52']]"
   ]
  },
  {
   "cell_type": "code",
   "execution_count": 290,
   "id": "5ebd7e2c",
   "metadata": {},
   "outputs": [],
   "source": [
    "cor_3 = train_45_52.corr()"
   ]
  },
  {
   "cell_type": "code",
   "execution_count": 291,
   "id": "63a07161",
   "metadata": {},
   "outputs": [
    {
     "data": {
      "text/plain": [
       "<AxesSubplot:title={'center':'Correlation of Numeric Features'}>"
      ]
     },
     "execution_count": 291,
     "metadata": {},
     "output_type": "execute_result"
    },
    {
     "data": {
      "image/png": "[encoded data removed]",
      "text/plain": [
       "<Figure size 1008x864 with 2 Axes>"
      ]
     },
     "metadata": {
      "needs_background": "light"
     },
     "output_type": "display_data"
    }
   ],
   "source": [
    "fig, axes = plt.subplots(figsize = (14,12))\n",
    "plt.title(\"Correlation of Numeric Features\", y=1, size=16)\n",
    "sns.heatmap(cor_3,\n",
    "    vmax=.8,\n",
    "    linewidths=0.01,\n",
    "    cmap=\"viridis\",\n",
    "    square=True,\n",
    "    annot=True,\n",
    "    linecolor=\"white\",\n",
    "    annot_kws = {\"size\": 12}\n",
    ")"
   ]
  },
  {
   "cell_type": "code",
   "execution_count": 292,
   "id": "3e743508",
   "metadata": {},
   "outputs": [],
   "source": [
    "# очень красивая линейная корреляция! "
   ]
  },
  {
   "cell_type": "code",
   "execution_count": 293,
   "id": "835f0237",
   "metadata": {},
   "outputs": [
    {
     "data": {
      "text/plain": [
       "<AxesSubplot:xlabel='feature_45', ylabel='Density'>"
      ]
     },
     "execution_count": 293,
     "metadata": {},
     "output_type": "execute_result"
    },
    {
     "data": {
      "image/png": "[encoded data removed]",
      "text/plain": [
       "<Figure size 432x288 with 1 Axes>"
      ]
     },
     "metadata": {
      "needs_background": "light"
     },
     "output_type": "display_data"
    }
   ],
   "source": [
    "sns.kdeplot(train['feature_45'], color='orange')\n",
    "sns.kdeplot(train['feature_46'], color='purple')\n",
    "sns.kdeplot(train['feature_47'], color='green')\n",
    "sns.kdeplot(train['feature_48'], color='blue')\n",
    "sns.kdeplot(train['feature_49'], color='red')"
   ]
  },
  {
   "cell_type": "code",
   "execution_count": 294,
   "id": "c8bbd703",
   "metadata": {},
   "outputs": [],
   "source": [
    "# как собственно и тут - все задублировалось. "
   ]
  },
  {
   "cell_type": "code",
   "execution_count": 296,
   "id": "78c1f7b0",
   "metadata": {},
   "outputs": [],
   "source": [
    "train = train.drop(['feature_46', 'feature_47', 'feature_48', 'feature_49', 'feature_51', 'feature_52'], axis=1)\n",
    "test = test.drop(['feature_46', 'feature_47', 'feature_48', 'feature_49', 'feature_51', 'feature_52'], axis=1)"
   ]
  },
  {
   "cell_type": "code",
   "execution_count": 297,
   "id": "d80484b6",
   "metadata": {},
   "outputs": [
    {
     "data": {
      "text/plain": [
       "((18390, 194), (6131, 193))"
      ]
     },
     "execution_count": 297,
     "metadata": {},
     "output_type": "execute_result"
    }
   ],
   "source": [
    "train.shape, test.shape"
   ]
  },
  {
   "cell_type": "code",
   "execution_count": null,
   "id": "f86634c9",
   "metadata": {},
   "outputs": [],
   "source": [
    "# Можно попробовать как вариант применить PCA/TSNE и объединить часть признаков в один. "
   ]
  },
  {
   "cell_type": "markdown",
   "id": "031214a6",
   "metadata": {},
   "source": [
    "## features_33-38"
   ]
  },
  {
   "cell_type": "code",
   "execution_count": 299,
   "id": "734b4179",
   "metadata": {},
   "outputs": [],
   "source": [
    "train_33_38 = train[['feature_33', 'feature_34', 'feature_35', 'feature_36', 'feature_37', \n",
    "                      'feature_38']]"
   ]
  },
  {
   "cell_type": "code",
   "execution_count": 300,
   "id": "0af69a28",
   "metadata": {},
   "outputs": [
    {
     "data": {
      "text/plain": [
       "<AxesSubplot:xlabel='feature_33', ylabel='Density'>"
      ]
     },
     "execution_count": 300,
     "metadata": {},
     "output_type": "execute_result"
    },
    {
     "data": {
      "image/png": "[encoded data removed]",
      "text/plain": [
       "<Figure size 432x288 with 1 Axes>"
      ]
     },
     "metadata": {
      "needs_background": "light"
     },
     "output_type": "display_data"
    }
   ],
   "source": [
    "sns.kdeplot(train['feature_33'], color='orange')\n",
    "sns.kdeplot(train['feature_34'], color='purple')\n",
    "sns.kdeplot(train['feature_35'], color='green')\n",
    "sns.kdeplot(train['feature_36'], color='blue')\n",
    "sns.kdeplot(train['feature_37'], color='red')\n",
    "sns.kdeplot(train['feature_38'], color='pink')"
   ]
  },
  {
   "cell_type": "code",
   "execution_count": 301,
   "id": "f797ac0b",
   "metadata": {},
   "outputs": [],
   "source": [
    "cor_4 = train_33_38.corr()"
   ]
  },
  {
   "cell_type": "code",
   "execution_count": 302,
   "id": "914b8839",
   "metadata": {},
   "outputs": [
    {
     "data": {
      "text/plain": [
       "<AxesSubplot:title={'center':'Correlation of Numeric Features'}>"
      ]
     },
     "execution_count": 302,
     "metadata": {},
     "output_type": "execute_result"
    },
    {
     "data": {
      "image/png": "[encoded data removed]",
      "text/plain": [
       "<Figure size 1008x864 with 2 Axes>"
      ]
     },
     "metadata": {
      "needs_background": "light"
     },
     "output_type": "display_data"
    }
   ],
   "source": [
    "fig, axes = plt.subplots(figsize = (14,12))\n",
    "plt.title(\"Correlation of Numeric Features\", y=1, size=16)\n",
    "sns.heatmap(cor_4,\n",
    "    vmax=.8,\n",
    "    linewidths=0.01,\n",
    "    cmap=\"viridis\",\n",
    "    square=True,\n",
    "    annot=True,\n",
    "    linecolor=\"white\",\n",
    "    annot_kws = {\"size\": 12}\n",
    ")"
   ]
  },
  {
   "cell_type": "code",
   "execution_count": 303,
   "id": "8168492f",
   "metadata": {},
   "outputs": [],
   "source": [
    "# последовательная линейная зависимость."
   ]
  },
  {
   "cell_type": "code",
   "execution_count": 304,
   "id": "10411110",
   "metadata": {},
   "outputs": [],
   "source": [
    "train = train.drop(['feature_34', 'feature_35', 'feature_36', 'feature_37', 'feature_38'], axis=1)\n",
    "test = test.drop(['feature_34', 'feature_35', 'feature_36', 'feature_37', 'feature_38'], axis=1)"
   ]
  },
  {
   "cell_type": "markdown",
   "id": "32bfeb45",
   "metadata": {},
   "source": [
    "## features_117-119"
   ]
  },
  {
   "cell_type": "code",
   "execution_count": 306,
   "id": "cd85186d",
   "metadata": {},
   "outputs": [
    {
     "data": {
      "text/plain": [
       "<AxesSubplot:xlabel='feature_117', ylabel='Density'>"
      ]
     },
     "execution_count": 306,
     "metadata": {},
     "output_type": "execute_result"
    },
    {
     "data": {
      "image/png": "[encoded data removed]",
      "text/plain": [
       "<Figure size 432x288 with 1 Axes>"
      ]
     },
     "metadata": {
      "needs_background": "light"
     },
     "output_type": "display_data"
    }
   ],
   "source": [
    "sns.kdeplot(train['feature_117'], color='purple')\n",
    "sns.kdeplot(train['feature_118'], color='green')\n",
    "sns.kdeplot(train['feature_119'], color='blue')"
   ]
  },
  {
   "cell_type": "code",
   "execution_count": 307,
   "id": "3cd0a353",
   "metadata": {},
   "outputs": [],
   "source": [
    "train_117_119 = train[['feature_117', 'feature_118', 'feature_119']]"
   ]
  },
  {
   "cell_type": "code",
   "execution_count": 311,
   "id": "75705e67",
   "metadata": {},
   "outputs": [],
   "source": [
    "cor_5 = train_117_119.corr()"
   ]
  },
  {
   "cell_type": "code",
   "execution_count": 312,
   "id": "32e04318",
   "metadata": {},
   "outputs": [
    {
     "data": {
      "text/plain": [
       "<AxesSubplot:title={'center':'Correlation of Numeric Features'}>"
      ]
     },
     "execution_count": 312,
     "metadata": {},
     "output_type": "execute_result"
    },
    {
     "data": {
      "image/png": "[encoded data removed]",
      "text/plain": [
       "<Figure size 1008x864 with 2 Axes>"
      ]
     },
     "metadata": {
      "needs_background": "light"
     },
     "output_type": "display_data"
    }
   ],
   "source": [
    "fig, axes = plt.subplots(figsize = (14,12))\n",
    "plt.title(\"Correlation of Numeric Features\", y=1, size=16)\n",
    "sns.heatmap(cor_5,\n",
    "    vmax=.8,\n",
    "    linewidths=0.01,\n",
    "    cmap=\"viridis\",\n",
    "    square=True,\n",
    "    annot=True,\n",
    "    linecolor=\"white\",\n",
    "    annot_kws = {\"size\": 12}\n",
    ")"
   ]
  },
  {
   "cell_type": "code",
   "execution_count": 313,
   "id": "54c140ce",
   "metadata": {},
   "outputs": [],
   "source": [
    "# Линейная корреляция. Один оставляем. Два других - удаляем."
   ]
  },
  {
   "cell_type": "code",
   "execution_count": 314,
   "id": "1069dab7",
   "metadata": {},
   "outputs": [],
   "source": [
    "train = train.drop(['feature_118', 'feature_119'], axis=1)\n",
    "test = test.drop(['feature_118', 'feature_119'], axis=1)"
   ]
  },
  {
   "cell_type": "code",
   "execution_count": 315,
   "id": "31b0659e",
   "metadata": {},
   "outputs": [],
   "source": [
    "# list_149_248 = [149, 150, 151, 152, 153, 154, 155, 158, 172, 184, 197, 198, 224, 226, 234, 241, 245, 247, 248]\n",
    "# for ind in list_149_248: \n",
    "#    print(train[f'feature_{ind}'].value_counts(normalize=True))\n",
    "# под удаление = 151, 152, 184, 234, 241, 245, 247. Остальных в этом листе нужно будет исследовать распределение \n",
    "# value_counts() и убрать выбросы! "
   ]
  },
  {
   "cell_type": "code",
   "execution_count": 316,
   "id": "47b7295c",
   "metadata": {},
   "outputs": [],
   "source": [
    "target = train['target']"
   ]
  },
  {
   "cell_type": "code",
   "execution_count": 317,
   "id": "255352e1",
   "metadata": {},
   "outputs": [],
   "source": [
    "feat_to_drop = ['id', 'target']"
   ]
  },
  {
   "cell_type": "code",
   "execution_count": 318,
   "id": "04575065",
   "metadata": {},
   "outputs": [],
   "source": [
    "train = train.drop(feat_to_drop, axis=1)"
   ]
  },
  {
   "cell_type": "code",
   "execution_count": 319,
   "id": "6dd92b42",
   "metadata": {},
   "outputs": [],
   "source": [
    "test_id = test['id']"
   ]
  },
  {
   "cell_type": "code",
   "execution_count": 320,
   "id": "db90a76c",
   "metadata": {},
   "outputs": [],
   "source": [
    "test = test.drop('id', axis=1)"
   ]
  },
  {
   "cell_type": "code",
   "execution_count": 321,
   "id": "96fafd12",
   "metadata": {},
   "outputs": [
    {
     "data": {
      "text/plain": [
       "((18390, 185), (6131, 185))"
      ]
     },
     "execution_count": 321,
     "metadata": {},
     "output_type": "execute_result"
    }
   ],
   "source": [
    "train.shape, test.shape"
   ]
  },
  {
   "cell_type": "code",
   "execution_count": null,
   "id": "245a284a",
   "metadata": {},
   "outputs": [],
   "source": [
    "cb_params = {\n",
    "    \"n_estimators\": 1000,\n",
    "    \"loss_function\": \"MultiClass\",\n",
    "    \"eval_metric\": \"TotalF1\",\n",
    "    \"task_type\": \"CPU\",\n",
    "    \"max_bin\": 20,\n",
    "    \"verbose\": 10,\n",
    "    \"max_depth\": 5,\n",
    "    \"l2_leaf_reg\": 25,\n",
    "    #\"early_stopping_rounds\": 25,\n",
    "    \"thread_count\": -1,\n",
    "    \"random_seed\": 25\n",
    "}"
   ]
  },
  {
   "cell_type": "markdown",
   "id": "0822cf1b",
   "metadata": {},
   "source": [
    "## Validation_method_1 - Hold out валидация"
   ]
  },
  {
   "cell_type": "markdown",
   "id": "2a8b266c",
   "metadata": {},
   "source": [
    "Или, проще говоря, валидация на __отложенной выборке__"
   ]
  },
  {
   "cell_type": "code",
   "execution_count": 453,
   "id": "09551fc6",
   "metadata": {},
   "outputs": [],
   "source": [
    "data = train"
   ]
  },
  {
   "cell_type": "code",
   "execution_count": 454,
   "id": "737c54f8",
   "metadata": {},
   "outputs": [],
   "source": [
    "x_train, x_valid = train_test_split(\n",
    "    data, train_size=0.5, shuffle=True, random_state=1,\n",
    ")\n",
    "y_train, y_valid = train_test_split(\n",
    "    target, train_size=0.5, shuffle=True, random_state=1,\n",
    ")\n",
    "\n",
    "\n",
    "x_valid, x_test = train_test_split(\n",
    "    x_valid, train_size=0.7, shuffle=True, random_state=42\n",
    ")\n",
    "y_valid, y_test = train_test_split(\n",
    "    y_valid, train_size=0.7, shuffle=True, random_state=42\n",
    ")"
   ]
  },
  {
   "cell_type": "code",
   "execution_count": 455,
   "id": "2dd32e5c",
   "metadata": {},
   "outputs": [
    {
     "name": "stdout",
     "output_type": "stream",
     "text": [
      "x_train.shape = 9195 rows, 185 cols\n",
      "x_valid.shape = 6436 rows, 185 cols\n",
      "x_test.shape = 2759 rows, 185 cols\n"
     ]
    }
   ],
   "source": [
    "print(\"x_train.shape = {} rows, {} cols\".format(*x_train.shape))\n",
    "print(\"x_valid.shape = {} rows, {} cols\".format(*x_valid.shape))\n",
    "print(\"x_test.shape = {} rows, {} cols\".format(*x_test.shape))"
   ]
  },
  {
   "cell_type": "code",
   "execution_count": 459,
   "id": "008c060f",
   "metadata": {},
   "outputs": [],
   "source": [
    "cb_params = {\n",
    "    \"n_estimators\": 1000,\n",
    "    \"loss_function\": \"MultiClass\",\n",
    "    \"eval_metric\": \"TotalF1\",\n",
    "    \"task_type\": \"CPU\",\n",
    "    \"max_bin\": 20,\n",
    "    \"verbose\": 100,\n",
    "    \"max_depth\": 5,\n",
    "    \"l2_leaf_reg\": 25,\n",
    "    #\"early_stopping_rounds\": 25,\n",
    "    \"thread_count\": -1,\n",
    "    \"random_seed\": 25\n",
    "}"
   ]
  },
  {
   "cell_type": "code",
   "execution_count": 460,
   "id": "66776bf5",
   "metadata": {},
   "outputs": [],
   "source": [
    "train_pool = cb.Pool(x_train, y_train)\n",
    "valid_pool = cb.Pool(x_valid, y_valid)"
   ]
  },
  {
   "cell_type": "code",
   "execution_count": 461,
   "id": "dfdb48c8",
   "metadata": {},
   "outputs": [
    {
     "data": {
      "application/vnd.jupyter.widget-view+json": {
       "model_id": "568b805205634fdbae750a4aaad488e4",
       "version_major": 2,
       "version_minor": 0
      },
      "text/plain": [
       "MetricVisualizer(layout=Layout(align_self='stretch', height='500px'))"
      ]
     },
     "metadata": {},
     "output_type": "display_data"
    },
    {
     "name": "stdout",
     "output_type": "stream",
     "text": [
      "0:\tlearn: 0.5930807\ttest: 0.5860855\tbest: 0.5860855 (0)\ttotal: 41.9ms\tremaining: 41.9s\n",
      "100:\tlearn: 0.6001152\ttest: 0.5916549\tbest: 0.5917441 (97)\ttotal: 3.63s\tremaining: 32.3s\n",
      "200:\tlearn: 0.6112198\ttest: 0.6032944\tbest: 0.6033971 (193)\ttotal: 6.64s\tremaining: 26.4s\n",
      "300:\tlearn: 0.6242027\ttest: 0.6097040\tbest: 0.6100098 (297)\ttotal: 10s\tremaining: 23.3s\n",
      "400:\tlearn: 0.6371549\ttest: 0.6187532\tbest: 0.6193465 (382)\ttotal: 13.5s\tremaining: 20.1s\n",
      "500:\tlearn: 0.6502408\ttest: 0.6228914\tbest: 0.6229123 (497)\ttotal: 17.1s\tremaining: 17s\n",
      "600:\tlearn: 0.6595169\ttest: 0.6279302\tbest: 0.6279302 (600)\ttotal: 22.1s\tremaining: 14.7s\n",
      "700:\tlearn: 0.6680598\ttest: 0.6313604\tbest: 0.6313804 (698)\ttotal: 26.7s\tremaining: 11.4s\n",
      "800:\tlearn: 0.6760608\ttest: 0.6331160\tbest: 0.6335527 (799)\ttotal: 30.6s\tremaining: 7.6s\n",
      "900:\tlearn: 0.6861672\ttest: 0.6345703\tbest: 0.6346050 (861)\ttotal: 34.9s\tremaining: 3.84s\n",
      "999:\tlearn: 0.6939391\ttest: 0.6349798\tbest: 0.6350700 (995)\ttotal: 39.1s\tremaining: 0us\n",
      "\n",
      "bestTest = 0.6350700303\n",
      "bestIteration = 995\n",
      "\n",
      "Shrink model to first 996 iterations.\n"
     ]
    },
    {
     "data": {
      "text/plain": [
       "<catboost.core.CatBoostClassifier at 0x1a1b7619580>"
      ]
     },
     "execution_count": 461,
     "metadata": {},
     "output_type": "execute_result"
    }
   ],
   "source": [
    "model_cb = cb.CatBoostClassifier(**cb_params)\n",
    "model_cb.fit(train_pool, eval_set=valid_pool, plot=True)"
   ]
  },
  {
   "cell_type": "markdown",
   "id": "558f97de",
   "metadata": {},
   "source": [
    "`Вывод:` мы получили прекрасный скор на валидации. __Но!__  \n",
    "\n",
    "    1) У нас была всего одна итерация. Это очень-очень плохо. Модель могла просто недообучиться\n",
    "    \n",
    "    2) Валидация на отложенной выборке плохо работает с тремя классами. Тем более, что у нас они как мы помним, были несбалансированы\n",
    "    \n",
    "    3) Каким бы \"вкусным\" не был скор в 0.59 нам придется отказаться от этого метода, потому что он будет неустойчив при возникновении новых данных"
   ]
  },
  {
   "cell_type": "code",
   "execution_count": 462,
   "id": "3e7c64b3",
   "metadata": {},
   "outputs": [],
   "source": [
    "score_valid = f1_score(y_valid, model_cb.predict(x_valid)[:, 0], average='macro')"
   ]
  },
  {
   "cell_type": "code",
   "execution_count": 463,
   "id": "6a328a77",
   "metadata": {},
   "outputs": [
    {
     "data": {
      "text/plain": [
       "0.41870069530780146"
      ]
     },
     "execution_count": 463,
     "metadata": {},
     "output_type": "execute_result"
    }
   ],
   "source": [
    "score_valid"
   ]
  },
  {
   "cell_type": "code",
   "execution_count": 464,
   "id": "53c309ae",
   "metadata": {},
   "outputs": [],
   "source": [
    "score_test = f1_score(y_test, model_cb.predict(x_test)[:, 0], average='macro')"
   ]
  },
  {
   "cell_type": "code",
   "execution_count": 465,
   "id": "ca6df730",
   "metadata": {},
   "outputs": [
    {
     "data": {
      "text/plain": [
       "0.4548629332504608"
      ]
     },
     "execution_count": 465,
     "metadata": {},
     "output_type": "execute_result"
    }
   ],
   "source": [
    "score_test"
   ]
  },
  {
   "cell_type": "code",
   "execution_count": 466,
   "id": "b741896d",
   "metadata": {},
   "outputs": [],
   "source": [
    "# на тестовой валидной вышло чуть лучше. 0.45"
   ]
  },
  {
   "cell_type": "code",
   "execution_count": 467,
   "id": "92f46664",
   "metadata": {},
   "outputs": [],
   "source": [
    "y_pred = model_cb.predict(test)[:, 0]"
   ]
  },
  {
   "cell_type": "code",
   "execution_count": 468,
   "id": "3473b4b3",
   "metadata": {},
   "outputs": [],
   "source": [
    "y_pred = pd.DataFrame({\n",
    "    \"ID\": test_id,\n",
    "    \"TARGET\": y_pred \n",
    "    })"
   ]
  },
  {
   "cell_type": "code",
   "execution_count": 469,
   "id": "c2a917ba",
   "metadata": {},
   "outputs": [],
   "source": [
    "y_pred.to_csv('Lyutov_Anatoly_hold_out_1.csv', index=False, encoding='utf-8')"
   ]
  },
  {
   "cell_type": "code",
   "execution_count": 470,
   "id": "a2d70b8a",
   "metadata": {},
   "outputs": [
    {
     "data": {
      "text/plain": [
       "0    5764\n",
       "1     193\n",
       "2     174\n",
       "Name: TARGET, dtype: int64"
      ]
     },
     "execution_count": 470,
     "metadata": {},
     "output_type": "execute_result"
    }
   ],
   "source": [
    "y_pred['TARGET'].value_counts()"
   ]
  },
  {
   "cell_type": "markdown",
   "id": "b15ccdbb",
   "metadata": {},
   "source": [
    "## Crossvalidation (Stratify_Kfold)"
   ]
  },
  {
   "cell_type": "markdown",
   "id": "2394c159",
   "metadata": {},
   "source": [
    "Способ валидации очень похожий на KFold, только с небольшим дополнением. Разделение данных на фолды происходит так, чтобы в каждом фолде было __одинаковое распределение целевой переменной.__ Такой подход полезен, если у нас __слишком мало данных для обучения модели, а также для сильно несбалансированных наборов данных для задачи классификации. Кроме того, такой подход полезен при решении задачи многоклассовой классификации с большим количество классов.__"
   ]
  },
  {
   "cell_type": "markdown",
   "id": "087acdf5",
   "metadata": {},
   "source": [
    "<img src=\"./web2_stratified_kfold.png\" width=800 height=600 />"
   ]
  },
  {
   "cell_type": "code",
   "execution_count": 431,
   "id": "49c86d3c",
   "metadata": {},
   "outputs": [],
   "source": [
    "def catboost_cross_validation(params, X, y, cv, categorical = None):\n",
    "    \"\"\"\n",
    "    Кросс-валидация для модели catbooost.\n",
    "\n",
    "    Parameters\n",
    "    ----------\n",
    "    params: dict\n",
    "        Словарь гиперпараметров модели.\n",
    "\n",
    "    X: pandas.core.frame.DataFrame\n",
    "        Матрица признако для обучения модели.\n",
    "\n",
    "    y: pandas.core.frame.Series\n",
    "        Вектор целевой переменной для обучения модели.\n",
    "\n",
    "    cv: KFold or StratifiedKFold generator.\n",
    "        Объект KFold / StratifiedKFold для определения\n",
    "        стратегии кросс-валидации модели.\n",
    "\n",
    "    categorical: str, optional, default = None\n",
    "        Список категориальных признаков.\n",
    "        Опциональный параметр, по умолчанию, не используется.\n",
    "\n",
    "    Returns\n",
    "    -------\n",
    "    estimators: list\n",
    "        Список с объектами обученной модели.\n",
    "\n",
    "    oof_preds: np.array\n",
    "        Вектор OOF-прогнозов.\n",
    "\n",
    "    \"\"\"\n",
    "    estimators, folds_scores = [], []\n",
    "    oof_preds = np.zeros(X.shape[0])\n",
    "\n",
    "    print(f\"{time.ctime()}, Cross-Validation, {X.shape[0]} rows, {X.shape[1]} cols\")\n",
    "    #X[categorical] = X[categorical].astype(str)\n",
    "\n",
    "    for fold, (train_idx, valid_idx) in enumerate(cv.split(X, y)):\n",
    "\n",
    "        x_train, x_valid = X.loc[train_idx], X.loc[valid_idx]\n",
    "        y_train, y_valid = y[train_idx], y[valid_idx]\n",
    "\n",
    "        model = cb.CatBoostClassifier(**params)\n",
    "        model.fit(\n",
    "            x_train, y_train, categorical,\n",
    "            eval_set=[(x_train, y_train), (x_valid, y_valid)]\n",
    "        )\n",
    "        oof_preds[valid_idx] = model.predict(x_valid)[:, 0]\n",
    "        print(oof_preds)\n",
    "        #oof_preds[valid_idx] = [np.argmax(line) for line in oof_preds[valid_idx]] \n",
    "        score = f1_score(y_valid, oof_preds[valid_idx], average='macro')\n",
    "        print(f\"Fold {fold+1}, Valid score = {round(score, 5)}\")\n",
    "        folds_scores.append(score)\n",
    "        estimators.append(model)\n",
    "\n",
    "    print(f\"Score by each fold: {folds_scores}\")\n",
    "    print(\"=\"*65)\n",
    "    return estimators, oof_preds"
   ]
  },
  {
   "cell_type": "code",
   "execution_count": 471,
   "id": "0ced09f3",
   "metadata": {},
   "outputs": [],
   "source": [
    "cb_params = {\n",
    "    \"n_estimators\": 1500,\n",
    "    #\"learning_rate\": 0.01,\n",
    "    \"loss_function\": \"MultiClass\",\n",
    "    \"eval_metric\": \"TotalF1\",\n",
    "    \"task_type\": \"CPU\",\n",
    "    \"max_bin\": 20,\n",
    "    \"verbose\": 100,\n",
    "    \"max_depth\": 6,\n",
    "    \"l2_leaf_reg\": 25,\n",
    "    #\"early_stopping_rounds\": 100,\n",
    "    \"thread_count\": -1,\n",
    "    \"random_seed\": 42\n",
    "}"
   ]
  },
  {
   "cell_type": "code",
   "execution_count": 472,
   "id": "a35b28f6",
   "metadata": {},
   "outputs": [
    {
     "name": "stdout",
     "output_type": "stream",
     "text": [
      "Thu Mar 17 22:54:06 2022, Cross-Validation, 18390 rows, 185 cols\n",
      "0:\tlearn: 0.5936870\ttest: 0.5936870\ttest1: 0.5920755\tbest: 0.5920755 (0)\ttotal: 118ms\tremaining: 2m 56s\n",
      "100:\tlearn: 0.6023808\ttest: 0.6023808\ttest1: 0.6032266\tbest: 0.6034080 (97)\ttotal: 5.01s\tremaining: 1m 9s\n",
      "200:\tlearn: 0.6154368\ttest: 0.6154368\ttest1: 0.6115735\tbest: 0.6115735 (199)\ttotal: 9.45s\tremaining: 1m 1s\n",
      "300:\tlearn: 0.6258132\ttest: 0.6258132\ttest1: 0.6230479\tbest: 0.6230479 (297)\ttotal: 13.8s\tremaining: 55s\n",
      "400:\tlearn: 0.6372273\ttest: 0.6372273\ttest1: 0.6266864\tbest: 0.6267727 (397)\ttotal: 18.1s\tremaining: 49.7s\n",
      "500:\tlearn: 0.6483976\ttest: 0.6483976\ttest1: 0.6305933\tbest: 0.6307510 (492)\ttotal: 23.6s\tremaining: 47.1s\n",
      "600:\tlearn: 0.6570875\ttest: 0.6570875\ttest1: 0.6369199\tbest: 0.6369199 (600)\ttotal: 29s\tremaining: 43.4s\n",
      "700:\tlearn: 0.6650714\ttest: 0.6650714\ttest1: 0.6391241\tbest: 0.6391241 (700)\ttotal: 34.5s\tremaining: 39.3s\n",
      "800:\tlearn: 0.6722718\ttest: 0.6722718\ttest1: 0.6393990\tbest: 0.6400566 (750)\ttotal: 39.8s\tremaining: 34.8s\n",
      "900:\tlearn: 0.6817019\ttest: 0.6817019\ttest1: 0.6411075\tbest: 0.6416821 (894)\ttotal: 45.2s\tremaining: 30.1s\n",
      "1000:\tlearn: 0.6895822\ttest: 0.6895822\ttest1: 0.6432534\tbest: 0.6439007 (985)\ttotal: 51.2s\tremaining: 25.5s\n",
      "1100:\tlearn: 0.6975299\ttest: 0.6975299\ttest1: 0.6453489\tbest: 0.6456664 (1086)\ttotal: 57.1s\tremaining: 20.7s\n",
      "1200:\tlearn: 0.7061497\ttest: 0.7061497\ttest1: 0.6470050\tbest: 0.6470907 (1187)\ttotal: 1m 2s\tremaining: 15.6s\n",
      "1300:\tlearn: 0.7134219\ttest: 0.7134219\ttest1: 0.6481303\tbest: 0.6485490 (1261)\ttotal: 1m 8s\tremaining: 10.5s\n",
      "1400:\tlearn: 0.7212769\ttest: 0.7212769\ttest1: 0.6482846\tbest: 0.6488092 (1365)\ttotal: 1m 13s\tremaining: 5.21s\n",
      "1499:\tlearn: 0.7270828\ttest: 0.7270828\ttest1: 0.6501365\tbest: 0.6501365 (1499)\ttotal: 1m 19s\tremaining: 0us\n",
      "\n",
      "bestTest = 0.650136519\n",
      "bestIteration = 1499\n",
      "\n",
      "[0. 0. 0. ... 0. 0. 0.]\n",
      "Fold 1, Valid score = 0.4631\n",
      "0:\tlearn: 0.6071910\ttest: 0.6071910\ttest1: 0.6108048\tbest: 0.6108048 (0)\ttotal: 56.8ms\tremaining: 1m 25s\n",
      "100:\tlearn: 0.6037736\ttest: 0.6037736\ttest1: 0.6021581\tbest: 0.6108048 (0)\ttotal: 6.61s\tremaining: 1m 31s\n",
      "200:\tlearn: 0.6173936\ttest: 0.6173936\ttest1: 0.6130361\tbest: 0.6130361 (199)\ttotal: 12.3s\tremaining: 1m 19s\n",
      "300:\tlearn: 0.6290667\ttest: 0.6290667\ttest1: 0.6170725\tbest: 0.6175299 (272)\ttotal: 17.9s\tremaining: 1m 11s\n",
      "400:\tlearn: 0.6407570\ttest: 0.6407570\ttest1: 0.6242776\tbest: 0.6242776 (400)\ttotal: 23.4s\tremaining: 1m 4s\n",
      "500:\tlearn: 0.6522834\ttest: 0.6522834\ttest1: 0.6333992\tbest: 0.6337490 (497)\ttotal: 30.1s\tremaining: 59.9s\n",
      "600:\tlearn: 0.6610648\ttest: 0.6610648\ttest1: 0.6421415\tbest: 0.6421415 (600)\ttotal: 36.6s\tremaining: 54.7s\n",
      "700:\tlearn: 0.6699945\ttest: 0.6699945\ttest1: 0.6440715\tbest: 0.6448065 (649)\ttotal: 42s\tremaining: 47.9s\n",
      "800:\tlearn: 0.6775457\ttest: 0.6775457\ttest1: 0.6466811\tbest: 0.6478249 (765)\ttotal: 47.5s\tremaining: 41.5s\n",
      "900:\tlearn: 0.6864227\ttest: 0.6864227\ttest1: 0.6489511\tbest: 0.6494959 (898)\ttotal: 52.9s\tremaining: 35.2s\n",
      "1000:\tlearn: 0.6936230\ttest: 0.6936230\ttest1: 0.6513658\tbest: 0.6530855 (968)\ttotal: 58.5s\tremaining: 29.2s\n",
      "1100:\tlearn: 0.7016491\ttest: 0.7016491\ttest1: 0.6520629\tbest: 0.6541479 (1076)\ttotal: 1m 4s\tremaining: 23.3s\n",
      "1200:\tlearn: 0.7078919\ttest: 0.7078919\ttest1: 0.6525979\tbest: 0.6541479 (1076)\ttotal: 1m 9s\tremaining: 17.4s\n",
      "1300:\tlearn: 0.7154230\ttest: 0.7154230\ttest1: 0.6532192\tbest: 0.6541479 (1076)\ttotal: 1m 15s\tremaining: 11.5s\n",
      "1400:\tlearn: 0.7227274\ttest: 0.7227274\ttest1: 0.6533854\tbest: 0.6543732 (1333)\ttotal: 1m 20s\tremaining: 5.7s\n",
      "1499:\tlearn: 0.7289040\ttest: 0.7289040\ttest1: 0.6531103\tbest: 0.6543732 (1333)\ttotal: 1m 26s\tremaining: 0us\n",
      "\n",
      "bestTest = 0.6543731666\n",
      "bestIteration = 1333\n",
      "\n",
      "Shrink model to first 1334 iterations.\n",
      "[0. 0. 0. ... 0. 0. 0.]\n",
      "Fold 2, Valid score = 0.45609\n",
      "0:\tlearn: 0.6113749\ttest: 0.6113749\ttest1: 0.6049270\tbest: 0.6049270 (0)\ttotal: 60.7ms\tremaining: 1m 30s\n",
      "100:\tlearn: 0.6051640\ttest: 0.6051640\ttest1: 0.6010134\tbest: 0.6049270 (0)\ttotal: 6.45s\tremaining: 1m 29s\n",
      "200:\tlearn: 0.6213403\ttest: 0.6213403\ttest1: 0.6073225\tbest: 0.6073225 (199)\ttotal: 12.4s\tremaining: 1m 20s\n",
      "300:\tlearn: 0.6336940\ttest: 0.6336940\ttest1: 0.6148850\tbest: 0.6155876 (299)\ttotal: 18.1s\tremaining: 1m 12s\n",
      "400:\tlearn: 0.6430751\ttest: 0.6430751\ttest1: 0.6226927\tbest: 0.6226927 (400)\ttotal: 23.6s\tremaining: 1m 4s\n",
      "500:\tlearn: 0.6534686\ttest: 0.6534686\ttest1: 0.6255476\tbest: 0.6258696 (458)\ttotal: 29.1s\tremaining: 58.1s\n",
      "600:\tlearn: 0.6631304\ttest: 0.6631304\ttest1: 0.6307959\tbest: 0.6315683 (591)\ttotal: 34.5s\tremaining: 51.6s\n",
      "700:\tlearn: 0.6718482\ttest: 0.6718482\ttest1: 0.6337544\tbest: 0.6342195 (680)\ttotal: 39.9s\tremaining: 45.5s\n",
      "800:\tlearn: 0.6814407\ttest: 0.6814407\ttest1: 0.6376103\tbest: 0.6384724 (786)\ttotal: 45.7s\tremaining: 39.9s\n",
      "900:\tlearn: 0.6898000\ttest: 0.6898000\ttest1: 0.6385550\tbest: 0.6392744 (876)\ttotal: 51.4s\tremaining: 34.2s\n",
      "1000:\tlearn: 0.6961559\ttest: 0.6961559\ttest1: 0.6416195\tbest: 0.6421725 (988)\ttotal: 57s\tremaining: 28.4s\n",
      "1100:\tlearn: 0.7032367\ttest: 0.7032367\ttest1: 0.6438263\tbest: 0.6442126 (1097)\ttotal: 1m 2s\tremaining: 22.6s\n",
      "1200:\tlearn: 0.7105841\ttest: 0.7105841\ttest1: 0.6441196\tbest: 0.6447955 (1173)\ttotal: 1m 7s\tremaining: 16.9s\n",
      "1300:\tlearn: 0.7169504\ttest: 0.7169504\ttest1: 0.6448166\tbest: 0.6455976 (1265)\ttotal: 1m 13s\tremaining: 11.2s\n",
      "1400:\tlearn: 0.7240214\ttest: 0.7240214\ttest1: 0.6471428\tbest: 0.6475439 (1382)\ttotal: 1m 19s\tremaining: 5.58s\n",
      "1499:\tlearn: 0.7309378\ttest: 0.7309378\ttest1: 0.6474136\tbest: 0.6479450 (1446)\ttotal: 1m 24s\tremaining: 0us\n",
      "\n",
      "bestTest = 0.6479450463\n",
      "bestIteration = 1446\n",
      "\n",
      "Shrink model to first 1447 iterations.\n",
      "[0. 0. 0. ... 0. 0. 0.]\n",
      "Fold 3, Valid score = 0.44326\n",
      "0:\tlearn: 0.6129857\ttest: 0.6129857\ttest1: 0.6092008\tbest: 0.6092008 (0)\ttotal: 54.4ms\tremaining: 1m 21s\n",
      "100:\tlearn: 0.6024336\ttest: 0.6024336\ttest1: 0.6019518\tbest: 0.6092008 (0)\ttotal: 6.52s\tremaining: 1m 30s\n",
      "200:\tlearn: 0.6172077\ttest: 0.6172077\ttest1: 0.6163405\tbest: 0.6167922 (198)\ttotal: 12.4s\tremaining: 1m 20s\n",
      "300:\tlearn: 0.6295797\ttest: 0.6295797\ttest1: 0.6230118\tbest: 0.6236083 (272)\ttotal: 18s\tremaining: 1m 11s\n",
      "400:\tlearn: 0.6451470\ttest: 0.6451470\ttest1: 0.6285234\tbest: 0.6285234 (399)\ttotal: 23.8s\tremaining: 1m 5s\n",
      "500:\tlearn: 0.6556055\ttest: 0.6556055\ttest1: 0.6356784\tbest: 0.6356784 (500)\ttotal: 30.3s\tremaining: 1m\n",
      "600:\tlearn: 0.6658286\ttest: 0.6658286\ttest1: 0.6360419\tbest: 0.6370825 (572)\ttotal: 36.2s\tremaining: 54.2s\n",
      "700:\tlearn: 0.6744533\ttest: 0.6744533\ttest1: 0.6391056\tbest: 0.6395920 (699)\ttotal: 42.6s\tremaining: 48.5s\n",
      "800:\tlearn: 0.6831197\ttest: 0.6831197\ttest1: 0.6394606\tbest: 0.6403948 (721)\ttotal: 48.2s\tremaining: 42.1s\n",
      "900:\tlearn: 0.6921556\ttest: 0.6921556\ttest1: 0.6407558\tbest: 0.6411252 (838)\ttotal: 53.7s\tremaining: 35.7s\n",
      "1000:\tlearn: 0.6976434\ttest: 0.6976434\ttest1: 0.6430230\tbest: 0.6430230 (998)\ttotal: 59.2s\tremaining: 29.5s\n",
      "1100:\tlearn: 0.7045759\ttest: 0.7045759\ttest1: 0.6426970\tbest: 0.6445352 (1043)\ttotal: 1m 4s\tremaining: 23.5s\n",
      "1200:\tlearn: 0.7111442\ttest: 0.7111442\ttest1: 0.6459069\tbest: 0.6462363 (1194)\ttotal: 1m 10s\tremaining: 17.6s\n",
      "1300:\tlearn: 0.7204766\ttest: 0.7204766\ttest1: 0.6477385\tbest: 0.6477385 (1297)\ttotal: 1m 16s\tremaining: 11.7s\n",
      "1400:\tlearn: 0.7277027\ttest: 0.7277027\ttest1: 0.6483379\tbest: 0.6486381 (1384)\ttotal: 1m 22s\tremaining: 5.83s\n",
      "1499:\tlearn: 0.7339210\ttest: 0.7339210\ttest1: 0.6499981\tbest: 0.6513944 (1467)\ttotal: 1m 28s\tremaining: 0us\n",
      "\n",
      "bestTest = 0.6513944052\n",
      "bestIteration = 1467\n",
      "\n",
      "Shrink model to first 1468 iterations.\n",
      "[0. 0. 0. ... 0. 0. 0.]\n",
      "Fold 4, Valid score = 0.4472\n",
      "0:\tlearn: 0.6075586\ttest: 0.6075586\ttest1: 0.6126771\tbest: 0.6126771 (0)\ttotal: 56.8ms\tremaining: 1m 25s\n",
      "100:\tlearn: 0.6025021\ttest: 0.6025021\ttest1: 0.6009754\tbest: 0.6126771 (0)\ttotal: 6.67s\tremaining: 1m 32s\n",
      "200:\tlearn: 0.6171936\ttest: 0.6171936\ttest1: 0.6142239\tbest: 0.6142239 (199)\ttotal: 12.5s\tremaining: 1m 20s\n",
      "300:\tlearn: 0.6303212\ttest: 0.6303212\ttest1: 0.6228202\tbest: 0.6228202 (296)\ttotal: 18.3s\tremaining: 1m 13s\n",
      "400:\tlearn: 0.6432410\ttest: 0.6432410\ttest1: 0.6251036\tbest: 0.6260978 (395)\ttotal: 24.2s\tremaining: 1m 6s\n",
      "500:\tlearn: 0.6537880\ttest: 0.6537880\ttest1: 0.6318456\tbest: 0.6318456 (500)\ttotal: 30.3s\tremaining: 1m\n",
      "600:\tlearn: 0.6638049\ttest: 0.6638049\ttest1: 0.6346706\tbest: 0.6356279 (597)\ttotal: 36s\tremaining: 53.9s\n",
      "700:\tlearn: 0.6739940\ttest: 0.6739940\ttest1: 0.6364296\tbest: 0.6365866 (699)\ttotal: 42s\tremaining: 47.9s\n",
      "800:\tlearn: 0.6833089\ttest: 0.6833089\ttest1: 0.6393391\tbest: 0.6405449 (776)\ttotal: 47.5s\tremaining: 41.5s\n",
      "900:\tlearn: 0.6902524\ttest: 0.6902524\ttest1: 0.6413048\tbest: 0.6417885 (875)\ttotal: 53.1s\tremaining: 35.3s\n",
      "1000:\tlearn: 0.6992712\ttest: 0.6992712\ttest1: 0.6415717\tbest: 0.6421246 (995)\ttotal: 58.5s\tremaining: 29.1s\n",
      "1100:\tlearn: 0.7069214\ttest: 0.7069214\ttest1: 0.6439219\tbest: 0.6439219 (1099)\ttotal: 1m 4s\tremaining: 23.2s\n",
      "1200:\tlearn: 0.7147243\ttest: 0.7147243\ttest1: 0.6439154\tbest: 0.6450558 (1131)\ttotal: 1m 9s\tremaining: 17.3s\n",
      "1300:\tlearn: 0.7218531\ttest: 0.7218531\ttest1: 0.6470144\tbest: 0.6470144 (1289)\ttotal: 1m 15s\tremaining: 11.5s\n",
      "1400:\tlearn: 0.7282161\ttest: 0.7282161\ttest1: 0.6469296\tbest: 0.6475573 (1302)\ttotal: 1m 20s\tremaining: 5.71s\n",
      "1499:\tlearn: 0.7341385\ttest: 0.7341385\ttest1: 0.6473343\tbest: 0.6477622 (1473)\ttotal: 1m 26s\tremaining: 0us\n",
      "\n",
      "bestTest = 0.6477621678\n",
      "bestIteration = 1473\n",
      "\n",
      "Shrink model to first 1474 iterations.\n",
      "[0. 0. 0. ... 0. 0. 0.]\n",
      "Fold 5, Valid score = 0.44871\n",
      "Score by each fold: [0.4631013419224039, 0.45609341954916055, 0.4432586072390765, 0.4471975936611167, 0.44870925736881145]\n",
      "=================================================================\n"
     ]
    }
   ],
   "source": [
    "cb_cv = StratifiedKFold(n_splits=5, random_state=128239, shuffle=True)\n",
    "\n",
    "cb_estimators, cb_oof_preds = catboost_cross_validation(\n",
    "    params=cb_params, X=train, y=target, cv=cb_cv)"
   ]
  },
  {
   "cell_type": "code",
   "execution_count": 473,
   "id": "8ff3c5bf",
   "metadata": {},
   "outputs": [
    {
     "name": "stdout",
     "output_type": "stream",
     "text": [
      "{0.0, 1.0, 2.0}\n"
     ]
    }
   ],
   "source": [
    "print(set(cb_oof_preds))"
   ]
  },
  {
   "cell_type": "code",
   "execution_count": 474,
   "id": "097e9274",
   "metadata": {},
   "outputs": [],
   "source": [
    "y_pred = np.zeros(test.shape[0])"
   ]
  },
  {
   "cell_type": "code",
   "execution_count": 475,
   "id": "ed8dcd34",
   "metadata": {},
   "outputs": [],
   "source": [
    "estimators = cb_estimators\n",
    "cv = cb_cv\n",
    "\n",
    "for estimator in estimators:\n",
    "    y_pred += estimator.predict(test)[:, 0]\n",
    "    \n",
    "y_pred = pd.DataFrame({\n",
    "    \"ID\": test_id,\n",
    "    \"TARGET\": y_pred / cb_cv.n_splits\n",
    "})"
   ]
  },
  {
   "cell_type": "code",
   "execution_count": 476,
   "id": "bceeb67d",
   "metadata": {},
   "outputs": [
    {
     "data": {
      "text/plain": [
       "0.0    5531\n",
       "2.0     165\n",
       "1.0     127\n",
       "0.2      81\n",
       "0.4      75\n",
       "0.8      67\n",
       "0.6      35\n",
       "1.6      21\n",
       "1.2      20\n",
       "1.8       6\n",
       "1.4       3\n",
       "Name: TARGET, dtype: int64"
      ]
     },
     "execution_count": 476,
     "metadata": {},
     "output_type": "execute_result"
    }
   ],
   "source": [
    "y_pred[\"TARGET\"].value_counts()"
   ]
  },
  {
   "cell_type": "code",
   "execution_count": 477,
   "id": "ee7a6465",
   "metadata": {},
   "outputs": [],
   "source": [
    "def get_answer(target): \n",
    "    \n",
    "    \"\"\" Return the target label (int). \"\"\"\n",
    "    \n",
    "    if target >= 1.5:\n",
    "        return 2\n",
    "    elif (target >= 0.5) and (target <= 1.4):\n",
    "        return 1\n",
    "    else: \n",
    "        return 0"
   ]
  },
  {
   "cell_type": "code",
   "execution_count": 478,
   "id": "9d7a735b",
   "metadata": {},
   "outputs": [],
   "source": [
    "y_pred['TARGET'] = y_pred['TARGET'].apply(lambda x: get_answer(x))  "
   ]
  },
  {
   "cell_type": "code",
   "execution_count": 479,
   "id": "3a86c415",
   "metadata": {},
   "outputs": [
    {
     "data": {
      "text/plain": [
       "0    5687\n",
       "1     252\n",
       "2     192\n",
       "Name: TARGET, dtype: int64"
      ]
     },
     "execution_count": 479,
     "metadata": {},
     "output_type": "execute_result"
    }
   ],
   "source": [
    "y_pred[\"TARGET\"].value_counts()"
   ]
  },
  {
   "cell_type": "code",
   "execution_count": null,
   "id": "fa3f390b",
   "metadata": {},
   "outputs": [],
   "source": []
  },
  {
   "cell_type": "code",
   "execution_count": 480,
   "id": "665700fa",
   "metadata": {},
   "outputs": [],
   "source": [
    "file_name = 'Lyutov_Anatoly_stratify_1.csv'"
   ]
  },
  {
   "cell_type": "code",
   "execution_count": 481,
   "id": "044d4afd",
   "metadata": {},
   "outputs": [],
   "source": [
    "y_pred.to_csv(file_name, index=False, encoding='utf-8')"
   ]
  },
  {
   "cell_type": "code",
   "execution_count": null,
   "id": "9dd28305",
   "metadata": {},
   "outputs": [],
   "source": []
  },
  {
   "cell_type": "code",
   "execution_count": null,
   "id": "21aaeb50",
   "metadata": {},
   "outputs": [],
   "source": []
  }
 ],
 "metadata": {
  "kernelspec": {
   "display_name": "Python 3",
   "language": "python",
   "name": "python3"
  },
  "language_info": {
   "codemirror_mode": {
    "name": "ipython",
    "version": 3
   },
   "file_extension": ".py",
   "mimetype": "text/x-python",
   "name": "python",
   "nbconvert_exporter": "python",
   "pygments_lexer": "ipython3",
   "version": "3.9.6"
  }
 },
 "nbformat": 4,
 "nbformat_minor": 5
}
