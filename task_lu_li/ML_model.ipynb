{
 "cells": [
  {
   "cell_type": "code",
   "execution_count": 46,
   "id": "54cd87b1",
   "metadata": {},
   "outputs": [],
   "source": [
    "import pandas as pd\n",
    "import numpy as np\n",
    "import matplotlib as mp\n",
    "import lightgbm as lgb\n",
    "import time\n",
    "import seaborn as sns\n",
    "import matplotlib.pyplot as plt\n",
    "%matplotlib inline\n",
    "import scipy.stats as st\n",
    "from scipy.stats import probplot, ks_2samp\n",
    "from sklearn.model_selection import KFold, StratifiedKFold, train_test_split, cross_val_score\n",
    "from sklearn.metrics import (roc_auc_score, recall_score, accuracy_score, auc, classification_report, \\\n",
    "                            confusion_matrix, plot_confusion_matrix, precision_recall_curve, \\\n",
    "                            plot_precision_recall_curve, roc_curve, plot_roc_curve)"
   ]
  },
  {
   "cell_type": "code",
   "execution_count": 7,
   "id": "8219813a",
   "metadata": {},
   "outputs": [],
   "source": [
    "import numpy as np\n",
    "import pandas as pd\n",
    "import xgboost as xgb\n",
    "import matplotlib.pyplot as plt\n",
    "\n",
    "from sklearn.model_selection import train_test_split\n",
    "from sklearn.metrics import f1_score\n",
    "from sklearn.metrics import (roc_auc_score, roc_curve, auc, accuracy_score, confusion_matrix, \\\n",
    "                             classification_report, plot_confusion_matrix, recall_score, \\\n",
    "                             plot_precision_recall_curve, precision_recall_curve, plot_roc_curve)"
   ]
  },
  {
   "cell_type": "code",
   "execution_count": 72,
   "id": "44401abe",
   "metadata": {},
   "outputs": [],
   "source": [
    "import catboost as cb\n",
    "import matplotlib.pyplot as plt\n",
    "\n",
    "from sklearn.model_selection import train_test_split"
   ]
  },
  {
   "cell_type": "code",
   "execution_count": 3,
   "id": "0504cb00",
   "metadata": {},
   "outputs": [],
   "source": [
    "from sklearn.preprocessing import LabelEncoder\n",
    "import lightgbm as lgb"
   ]
  },
  {
   "cell_type": "code",
   "execution_count": 6,
   "id": "4af5cd3f",
   "metadata": {},
   "outputs": [],
   "source": [
    "import warnings\n",
    "warnings.simplefilter(action='ignore', category=FutureWarning)"
   ]
  },
  {
   "cell_type": "code",
   "execution_count": 4,
   "id": "23b3849e",
   "metadata": {},
   "outputs": [],
   "source": [
    "test = pd.read_csv('C:/Users/Anatoly/Desktop/Тестовое задание LICARD DS/DATA/contest_test.csv')"
   ]
  },
  {
   "cell_type": "code",
   "execution_count": 5,
   "id": "54613bfe",
   "metadata": {},
   "outputs": [],
   "source": [
    "train = pd.read_csv('C:/Users/Anatoly/Desktop/Тестовое задание LICARD DS/DATA/contest_train.csv')"
   ]
  },
  {
   "cell_type": "code",
   "execution_count": 12,
   "id": "202a7661",
   "metadata": {},
   "outputs": [],
   "source": [
    "def clean_input(data) -> pd.DataFrame:\n",
    "    \"\"\"\n",
    "    Перевод названий колонок в нижний регистр и вывод основной информации о наборе данных\n",
    "\n",
    "    Parameters\n",
    "    ----------\n",
    "    data: Pandas DataFrame\n",
    "\n",
    "    Returns\n",
    "    -------\n",
    "    data: pandas.core.frame.DataFrame\n",
    "        Загруженный набор данных в pandas.DataFrame\n",
    "\n",
    "    \"\"\"\n",
    "    #base_path = \"data\"\n",
    "    #data = pd.read_csv(f\"{base_path}/{data_path}\")\n",
    "    # Приводим все названия колонок к нижнему регистру\n",
    "    data.columns = [col.lower() for col in data.columns]\n",
    "    #print(f\"{data_path}: shape = {data.shape[0]} rows, {data.shape[1]} cols\")\n",
    "    print(f\"shape = {data.shape[0]} rows, {data.shape[1]} cols\")\n",
    "\n",
    "    return data"
   ]
  },
  {
   "cell_type": "code",
   "execution_count": 13,
   "id": "c05643c1",
   "metadata": {},
   "outputs": [
    {
     "name": "stdout",
     "output_type": "stream",
     "text": [
      "shape = 18390 rows, 262 cols\n",
      "shape = 6131 rows, 261 cols\n"
     ]
    }
   ],
   "source": [
    "train = clean_input(train)\n",
    "test = clean_input(test)"
   ]
  },
  {
   "cell_type": "markdown",
   "id": "1794748d",
   "metadata": {},
   "source": [
    "## Удаление лишних столбцов"
   ]
  },
  {
   "cell_type": "code",
   "execution_count": 15,
   "id": "60b1a89f",
   "metadata": {},
   "outputs": [],
   "source": [
    "numerical_features = train.select_dtypes(include=[np.number])"
   ]
  },
  {
   "cell_type": "code",
   "execution_count": 23,
   "id": "197bd887",
   "metadata": {},
   "outputs": [
    {
     "name": "stdout",
     "output_type": "stream",
     "text": [
      "Discrete Variables Count: 50\n"
     ]
    }
   ],
   "source": [
    "discrete_feature = [\n",
    "    feature for feature in numerical_features\n",
    "    if len(train[feature].unique())<25 \n",
    "]\n",
    "\n",
    "print(f\"Discrete Variables Count: {len(discrete_feature)}\")"
   ]
  },
  {
   "cell_type": "code",
   "execution_count": 28,
   "id": "f92b767b",
   "metadata": {},
   "outputs": [
    {
     "name": "stdout",
     "output_type": "stream",
     "text": [
      "Continuous Feature Count 212\n"
     ]
    }
   ],
   "source": [
    "continuous_feature = [\n",
    "    feature for feature in numerical_features\n",
    "    if feature not in discrete_feature + [\"ID\"]]\n",
    "\n",
    "print(f\"Continuous Feature Count {len(continuous_feature)}\")"
   ]
  },
  {
   "cell_type": "code",
   "execution_count": 29,
   "id": "1b8ccc73",
   "metadata": {},
   "outputs": [],
   "source": [
    "train_con = train[continuous_feature]"
   ]
  },
  {
   "cell_type": "code",
   "execution_count": 30,
   "id": "7235c9fb",
   "metadata": {},
   "outputs": [],
   "source": [
    "test_con = test[continuous_feature]"
   ]
  },
  {
   "cell_type": "code",
   "execution_count": 24,
   "id": "4934e1f1",
   "metadata": {},
   "outputs": [],
   "source": [
    "train_descr = train[discrete_feature]"
   ]
  },
  {
   "cell_type": "code",
   "execution_count": 31,
   "id": "205ab4bd",
   "metadata": {},
   "outputs": [],
   "source": [
    "test_descr = test[continuous_feature]"
   ]
  },
  {
   "cell_type": "code",
   "execution_count": 16,
   "id": "bd8b86a4",
   "metadata": {},
   "outputs": [],
   "source": [
    "feature_0 = []\n",
    "\n",
    "for feat in numerical_features: \n",
    "    if (len(train[feat].unique()) == 1) and (len(test[feat].unique()) == 1) and (train[feat].unique() == 0): \n",
    "        feature_0.append(feat)"
   ]
  },
  {
   "cell_type": "code",
   "execution_count": 17,
   "id": "905316b5",
   "metadata": {},
   "outputs": [
    {
     "data": {
      "text/plain": [
       "['feature_3', 'feature_144', 'feature_249', 'feature_256']"
      ]
     },
     "execution_count": 17,
     "metadata": {},
     "output_type": "execute_result"
    }
   ],
   "source": [
    "feature_0"
   ]
  },
  {
   "cell_type": "code",
   "execution_count": 20,
   "id": "e2ce2a81",
   "metadata": {},
   "outputs": [],
   "source": [
    "# Также отберем и впоследствии удалим те бинарные фичи (0-1), в которых отношение нулевых признаков к единичным более 90%"
   ]
  },
  {
   "cell_type": "code",
   "execution_count": 18,
   "id": "db861122",
   "metadata": {},
   "outputs": [],
   "source": [
    "threshold = train.shape[0]*0.9"
   ]
  },
  {
   "cell_type": "code",
   "execution_count": 19,
   "id": "a76b5e10",
   "metadata": {},
   "outputs": [
    {
     "data": {
      "text/plain": [
       "16551.0"
      ]
     },
     "execution_count": 19,
     "metadata": {},
     "output_type": "execute_result"
    }
   ],
   "source": [
    "threshold"
   ]
  },
  {
   "cell_type": "code",
   "execution_count": 21,
   "id": "42a1dc31",
   "metadata": {},
   "outputs": [],
   "source": [
    "feature_90 = []"
   ]
  },
  {
   "cell_type": "code",
   "execution_count": 25,
   "id": "08e76180",
   "metadata": {},
   "outputs": [],
   "source": [
    "for feat in discrete_feature:\n",
    "    try:\n",
    "        if train_descr[feat].value_counts()[0] > threshold: \n",
    "            feature_90.append(feat) \n",
    "    except KeyError as ke: \n",
    "        continue"
   ]
  },
  {
   "cell_type": "code",
   "execution_count": 26,
   "id": "d22d970b",
   "metadata": {},
   "outputs": [],
   "source": [
    "feature_90 = list(set(feature_90))"
   ]
  },
  {
   "cell_type": "code",
   "execution_count": 27,
   "id": "f4b7b0e7",
   "metadata": {},
   "outputs": [
    {
     "data": {
      "text/plain": [
       "['feature_249',\n",
       " 'feature_157',\n",
       " 'feature_144',\n",
       " 'feature_156',\n",
       " 'feature_20',\n",
       " 'feature_256',\n",
       " 'feature_3',\n",
       " 'feature_140',\n",
       " 'feature_5',\n",
       " 'feature_6',\n",
       " 'feature_2',\n",
       " 'feature_31',\n",
       " 'feature_159',\n",
       " 'feature_32']"
      ]
     },
     "execution_count": 27,
     "metadata": {},
     "output_type": "execute_result"
    }
   ],
   "source": [
    "feature_90 "
   ]
  },
  {
   "cell_type": "code",
   "execution_count": 32,
   "id": "bf0d9a44",
   "metadata": {},
   "outputs": [],
   "source": [
    "for feat in continuous_feature:\n",
    "    try:\n",
    "        if train_con[feat].value_counts()[0] > threshold: \n",
    "            feature_90.append(feat) \n",
    "    except KeyError as ke: \n",
    "        continue"
   ]
  },
  {
   "cell_type": "code",
   "execution_count": 33,
   "id": "3024ca54",
   "metadata": {},
   "outputs": [
    {
     "data": {
      "text/plain": [
       "['feature_249',\n",
       " 'feature_157',\n",
       " 'feature_144',\n",
       " 'feature_156',\n",
       " 'feature_20',\n",
       " 'feature_256',\n",
       " 'feature_3',\n",
       " 'feature_140',\n",
       " 'feature_5',\n",
       " 'feature_6',\n",
       " 'feature_2',\n",
       " 'feature_31',\n",
       " 'feature_159',\n",
       " 'feature_32',\n",
       " 'feature_22',\n",
       " 'feature_25',\n",
       " 'feature_27',\n",
       " 'feature_28',\n",
       " 'feature_29',\n",
       " 'feature_30',\n",
       " 'feature_39',\n",
       " 'feature_40',\n",
       " 'feature_41',\n",
       " 'feature_42',\n",
       " 'feature_43',\n",
       " 'feature_44',\n",
       " 'feature_75',\n",
       " 'feature_139',\n",
       " 'feature_141',\n",
       " 'feature_145',\n",
       " 'feature_146',\n",
       " 'feature_176',\n",
       " 'feature_200',\n",
       " 'feature_201',\n",
       " 'feature_202',\n",
       " 'feature_229',\n",
       " 'feature_231',\n",
       " 'feature_246']"
      ]
     },
     "execution_count": 33,
     "metadata": {},
     "output_type": "execute_result"
    }
   ],
   "source": [
    "feature_90 "
   ]
  },
  {
   "cell_type": "code",
   "execution_count": 34,
   "id": "8ea78c51",
   "metadata": {},
   "outputs": [],
   "source": [
    "similar_feature = [#\"feature_209\",\n",
    "                  \"feature_210\", \"feature_211\", \n",
    "                  \"feature_212\", \"feature_213\", \n",
    "                  \"feature_214\"]\n",
    "#or to delete?\n",
    "# какой-то один признак нужно обязательно оставить. Например \"feature_209\""
   ]
  },
  {
   "cell_type": "code",
   "execution_count": 35,
   "id": "0507ae4f",
   "metadata": {},
   "outputs": [],
   "source": [
    "train = train.drop(feature_90, axis=1)\n",
    "test = test.drop(feature_90, axis=1)"
   ]
  },
  {
   "cell_type": "code",
   "execution_count": 36,
   "id": "3149f59e",
   "metadata": {},
   "outputs": [],
   "source": [
    "train = train.drop(similar_feature, axis=1)\n",
    "test = test.drop(similar_feature, axis=1)"
   ]
  },
  {
   "cell_type": "code",
   "execution_count": 37,
   "id": "63e2fa38",
   "metadata": {},
   "outputs": [
    {
     "data": {
      "text/plain": [
       "((18390, 219), (6131, 218))"
      ]
     },
     "execution_count": 37,
     "metadata": {},
     "output_type": "execute_result"
    }
   ],
   "source": [
    "train.shape, test.shape"
   ]
  },
  {
   "cell_type": "code",
   "execution_count": 38,
   "id": "2df1d078",
   "metadata": {},
   "outputs": [],
   "source": [
    "target = train['target']"
   ]
  },
  {
   "cell_type": "code",
   "execution_count": 39,
   "id": "04987578",
   "metadata": {},
   "outputs": [],
   "source": [
    "feat_to_drop = ['id', 'target']"
   ]
  },
  {
   "cell_type": "code",
   "execution_count": 42,
   "id": "5c2cecf1",
   "metadata": {},
   "outputs": [],
   "source": [
    "train = train.drop(feat_to_drop, axis=1)"
   ]
  },
  {
   "cell_type": "code",
   "execution_count": 43,
   "id": "c56a0984",
   "metadata": {},
   "outputs": [],
   "source": [
    "test = test.drop('id', axis=1)"
   ]
  },
  {
   "cell_type": "code",
   "execution_count": 44,
   "id": "454e75df",
   "metadata": {},
   "outputs": [
    {
     "data": {
      "text/plain": [
       "((18390, 217), (6131, 217))"
      ]
     },
     "execution_count": 44,
     "metadata": {},
     "output_type": "execute_result"
    }
   ],
   "source": [
    "train.shape, test.shape"
   ]
  },
  {
   "cell_type": "code",
   "execution_count": 57,
   "id": "0c5c8897",
   "metadata": {},
   "outputs": [],
   "source": [
    "data = train"
   ]
  },
  {
   "cell_type": "markdown",
   "id": "18f6c73d",
   "metadata": {},
   "source": [
    "## Validation_method_1"
   ]
  },
  {
   "cell_type": "code",
   "execution_count": 60,
   "id": "9eb127ea",
   "metadata": {},
   "outputs": [],
   "source": [
    "x_train, x_valid = train_test_split(\n",
    "    data, train_size=0.5, shuffle=True, random_state=1,\n",
    ")\n",
    "y_train, y_valid = train_test_split(\n",
    "    target, train_size=0.5, shuffle=True, random_state=1,\n",
    ")\n",
    "\n",
    "\n",
    "x_valid, x_test = train_test_split(\n",
    "    x_valid, train_size=0.7, shuffle=True, random_state=42\n",
    ")\n",
    "y_valid, y_test = train_test_split(\n",
    "    y_valid, train_size=0.7, shuffle=True, random_state=42\n",
    ")"
   ]
  },
  {
   "cell_type": "code",
   "execution_count": 61,
   "id": "d5abfa39",
   "metadata": {},
   "outputs": [
    {
     "name": "stdout",
     "output_type": "stream",
     "text": [
      "x_train.shape = 9195 rows, 217 cols\n",
      "x_valid.shape = 6436 rows, 217 cols\n",
      "x_test.shape = 2759 rows, 217 cols\n"
     ]
    }
   ],
   "source": [
    "print(\"x_train.shape = {} rows, {} cols\".format(*x_train.shape))\n",
    "print(\"x_valid.shape = {} rows, {} cols\".format(*x_valid.shape))\n",
    "print(\"x_test.shape = {} rows, {} cols\".format(*x_test.shape))"
   ]
  },
  {
   "cell_type": "code",
   "execution_count": 89,
   "id": "acdd4ef4",
   "metadata": {},
   "outputs": [],
   "source": [
    "cb_params = {\n",
    "    \"n_estimators\": 500,\n",
    "    \"loss_function\": \"MultiClass\",\n",
    "    \"eval_metric\": \"TotalF1\",\n",
    "    \"task_type\": \"CPU\",\n",
    "    \"max_bin\": 20,\n",
    "    \"verbose\": 50,\n",
    "    \"max_depth\": 5,\n",
    "    \"l2_leaf_reg\": 50,\n",
    "    \"early_stopping_rounds\": 25,\n",
    "    \"thread_count\": -1,\n",
    "    \"random_seed\": 25\n",
    "}"
   ]
  },
  {
   "cell_type": "code",
   "execution_count": 90,
   "id": "f2b4e340",
   "metadata": {},
   "outputs": [],
   "source": [
    "train_pool = cb.Pool(x_train, y_train)\n",
    "valid_pool = cb.Pool(x_valid, y_valid)"
   ]
  },
  {
   "cell_type": "code",
   "execution_count": 91,
   "id": "89af8905",
   "metadata": {},
   "outputs": [
    {
     "data": {
      "application/vnd.jupyter.widget-view+json": {
       "model_id": "4468176746b147fab02eb1f9ec2e2cce",
       "version_major": 2,
       "version_minor": 0
      },
      "text/plain": [
       "MetricVisualizer(layout=Layout(align_self='stretch', height='500px'))"
      ]
     },
     "metadata": {},
     "output_type": "display_data"
    },
    {
     "name": "stdout",
     "output_type": "stream",
     "text": [
      "0:\tlearn: 0.5889538\ttest: 0.5847785\tbest: 0.5847785 (0)\ttotal: 43ms\tremaining: 21.4s\n",
      "Stopped by overfitting detector  (25 iterations wait)\n",
      "\n",
      "bestTest = 0.5847784821\n",
      "bestIteration = 0\n",
      "\n",
      "Shrink model to first 1 iterations.\n"
     ]
    },
    {
     "data": {
      "text/plain": [
       "<catboost.core.CatBoostClassifier at 0x1fddc2c98e0>"
      ]
     },
     "execution_count": 91,
     "metadata": {},
     "output_type": "execute_result"
    }
   ],
   "source": [
    "model_cb = cb.CatBoostClassifier(**cb_params)\n",
    "model_cb.fit(train_pool, eval_set=valid_pool, plot=True)"
   ]
  },
  {
   "cell_type": "code",
   "execution_count": null,
   "id": "16bc6327",
   "metadata": {},
   "outputs": [],
   "source": []
  },
  {
   "cell_type": "code",
   "execution_count": null,
   "id": "a97d2181",
   "metadata": {},
   "outputs": [],
   "source": []
  },
  {
   "cell_type": "code",
   "execution_count": null,
   "id": "2de8f98f",
   "metadata": {},
   "outputs": [],
   "source": []
  },
  {
   "cell_type": "code",
   "execution_count": null,
   "id": "b85d51d1",
   "metadata": {},
   "outputs": [],
   "source": []
  },
  {
   "cell_type": "code",
   "execution_count": null,
   "id": "68c07783",
   "metadata": {},
   "outputs": [],
   "source": []
  },
  {
   "cell_type": "markdown",
   "id": "6bb35f60",
   "metadata": {},
   "source": [
    "## Crossvalidation"
   ]
  },
  {
   "cell_type": "code",
   "execution_count": 54,
   "id": "4f4549b2",
   "metadata": {},
   "outputs": [],
   "source": [
    "def lightgbm_cross_validation(params, X, y, cv, categorical = None):\n",
    "    \"\"\"\n",
    "    Кросс-валидация для модели LightGBM.\n",
    "\n",
    "    Parameters\n",
    "    ----------\n",
    "    params: dict\n",
    "        Словарь гиперпараметров модели.\n",
    "\n",
    "    X: pandas.core.frame.DataFrame\n",
    "        Матрица признако для обучения модели.\n",
    "\n",
    "    y: pandas.core.frame.Series\n",
    "        Вектор целевой переменной для обучения модели.\n",
    "\n",
    "    cv: KFold or StratifiedKFold generator.\n",
    "        Объект KFold / StratifiedKFold для определения\n",
    "        стратегии кросс-валидации модели.\n",
    "\n",
    "    categorical: str, optional, default = None\n",
    "        Список категориальных признаков.\n",
    "        Опциональный параметр, по умолчанию, не используется.\n",
    "\n",
    "    Returns\n",
    "    -------\n",
    "    estimators: list\n",
    "        Список с объектами обученной модели.\n",
    "\n",
    "    oof_preds: np.array\n",
    "        Вектор OOF-прогнозов.\n",
    "\n",
    "    \"\"\"\n",
    "#     if not categorical:\n",
    "#         categorical = \"auto\"\n",
    "\n",
    "    estimators, encoders = [], {}\n",
    "    if categorical:\n",
    "        for feature in categorical:\n",
    "            encoder = LabelEncoder()\n",
    "            X[feature] = encoder.fit_transform(X[feature].astype(\"str\").fillna(\"NA\"))\n",
    "            encoders[feature] = encoder\n",
    "        \n",
    "    estimators, folds_scores = [], []\n",
    "    oof_preds = np.zeros(X.shape[0])\n",
    "    print(f\"{time.ctime()}, Cross-Validation, {X.shape[0]} rows, {X.shape[1]} cols\")\n",
    "\n",
    "    for fold, (train_idx, valid_idx) in enumerate(cv.split(X, y)):\n",
    "        x_train, x_valid = X.loc[train_idx], X.loc[valid_idx]\n",
    "        y_train, y_valid = y[train_idx], y[valid_idx]\n",
    "\n",
    "        model = lgb.LGBMClassifier(**params)\n",
    "        model.fit(\n",
    "            x_train, y_train,\n",
    "            eval_set=[(x_valid, y_valid)],\n",
    "            eval_metric=\"multi_logloss\", verbose=0, early_stopping_rounds=5000,\n",
    "            #categorical_feature=categorical\n",
    "        )\n",
    "        oof_preds[valid_idx] = model.predict(x_valid)[:, 1]\n",
    "        oof_preds[valid_idx] = [np.argmax(x) for x in oof_preds[valid_idx]]\n",
    "        score = f1_score(y_valid, oof_preds[valid_idx], average='macro')\n",
    "        print(f\"Fold {fold+1}, Valid score = {round(score, 5)}\")\n",
    "        folds_scores.append(round(score, 5))\n",
    "        estimators.append(model)\n",
    "\n",
    "    print(f\"Score by each fold: {folds_scores}\")\n",
    "    print(\"=\"*65)\n",
    "    return estimators, oof_preds"
   ]
  },
  {
   "cell_type": "code",
   "execution_count": 55,
   "id": "c3f63cc4",
   "metadata": {},
   "outputs": [],
   "source": [
    "lgbm_params = {\n",
    "    'boosting_type': 'gbdt',\n",
    "    'objective': 'multiclass',\n",
    "    'metric': 'multi_logloss',\n",
    "    'n_estimators': 10000,\n",
    "    'learning_rate': 0.05134,\n",
    "    'num_leaves': 54,\n",
    "    'max_depth': 10,\n",
    "    'num_class': 3,\n",
    "    'subsample_for_bin': 240000,\n",
    "    'reg_alpha': 0.436193,\n",
    "    'reg_lambda': 0.479169,\n",
    "    'colsample_bytree': 0.508716,\n",
    "    'min_split_gain': 0.024766,\n",
    "    'subsample': 0.7,\n",
    "    'is_unbalance': False,\n",
    "    'random_state': 27,\n",
    "    'silent': -1,\n",
    "    'verbose': -1,\n",
    "}"
   ]
  },
  {
   "cell_type": "code",
   "execution_count": 56,
   "id": "b084c92d",
   "metadata": {},
   "outputs": [
    {
     "name": "stdout",
     "output_type": "stream",
     "text": [
      "Wed Mar 16 18:19:40 2022, Cross-Validation, 18390 rows, 217 cols\n"
     ]
    },
    {
     "ename": "IndexError",
     "evalue": "too many indices for array: array is 1-dimensional, but 2 were indexed",
     "output_type": "error",
     "traceback": [
      "\u001b[1;31m---------------------------------------------------------------------------\u001b[0m",
      "\u001b[1;31mIndexError\u001b[0m                                Traceback (most recent call last)",
      "\u001b[1;32m<ipython-input-56-65d00012fb37>\u001b[0m in \u001b[0;36m<module>\u001b[1;34m\u001b[0m\n\u001b[0;32m      1\u001b[0m \u001b[0mcv\u001b[0m \u001b[1;33m=\u001b[0m \u001b[0mKFold\u001b[0m\u001b[1;33m(\u001b[0m\u001b[0mn_splits\u001b[0m\u001b[1;33m=\u001b[0m\u001b[1;36m8\u001b[0m\u001b[1;33m,\u001b[0m \u001b[0mrandom_state\u001b[0m\u001b[1;33m=\u001b[0m\u001b[1;36m282\u001b[0m\u001b[1;33m,\u001b[0m \u001b[0mshuffle\u001b[0m\u001b[1;33m=\u001b[0m\u001b[1;32mTrue\u001b[0m\u001b[1;33m)\u001b[0m\u001b[1;33m\u001b[0m\u001b[1;33m\u001b[0m\u001b[0m\n\u001b[0;32m      2\u001b[0m \u001b[1;33m\u001b[0m\u001b[0m\n\u001b[1;32m----> 3\u001b[1;33m lgb_estimators, lgb_oof_preds = lightgbm_cross_validation(\n\u001b[0m\u001b[0;32m      4\u001b[0m     params=lgbm_params, X=train, y=target, cv=cv)\n\u001b[0;32m      5\u001b[0m \u001b[1;33m\u001b[0m\u001b[0m\n",
      "\u001b[1;32m<ipython-input-54-bed73e461324>\u001b[0m in \u001b[0;36mlightgbm_cross_validation\u001b[1;34m(params, X, y, cv, categorical)\u001b[0m\n\u001b[0;32m     56\u001b[0m             \u001b[1;31m#categorical_feature=categorical\u001b[0m\u001b[1;33m\u001b[0m\u001b[1;33m\u001b[0m\u001b[1;33m\u001b[0m\u001b[0m\n\u001b[0;32m     57\u001b[0m         )\n\u001b[1;32m---> 58\u001b[1;33m         \u001b[0moof_preds\u001b[0m\u001b[1;33m[\u001b[0m\u001b[0mvalid_idx\u001b[0m\u001b[1;33m]\u001b[0m \u001b[1;33m=\u001b[0m \u001b[0mmodel\u001b[0m\u001b[1;33m.\u001b[0m\u001b[0mpredict\u001b[0m\u001b[1;33m(\u001b[0m\u001b[0mx_valid\u001b[0m\u001b[1;33m)\u001b[0m\u001b[1;33m[\u001b[0m\u001b[1;33m:\u001b[0m\u001b[1;33m,\u001b[0m \u001b[1;36m1\u001b[0m\u001b[1;33m]\u001b[0m\u001b[1;33m\u001b[0m\u001b[1;33m\u001b[0m\u001b[0m\n\u001b[0m\u001b[0;32m     59\u001b[0m         \u001b[0moof_preds\u001b[0m\u001b[1;33m[\u001b[0m\u001b[0mvalid_idx\u001b[0m\u001b[1;33m]\u001b[0m \u001b[1;33m=\u001b[0m \u001b[1;33m[\u001b[0m\u001b[0mnp\u001b[0m\u001b[1;33m.\u001b[0m\u001b[0margmax\u001b[0m\u001b[1;33m(\u001b[0m\u001b[0mx\u001b[0m\u001b[1;33m)\u001b[0m \u001b[1;32mfor\u001b[0m \u001b[0mx\u001b[0m \u001b[1;32min\u001b[0m \u001b[0moof_preds\u001b[0m\u001b[1;33m[\u001b[0m\u001b[0mvalid_idx\u001b[0m\u001b[1;33m]\u001b[0m\u001b[1;33m]\u001b[0m\u001b[1;33m\u001b[0m\u001b[1;33m\u001b[0m\u001b[0m\n\u001b[0;32m     60\u001b[0m         \u001b[0mscore\u001b[0m \u001b[1;33m=\u001b[0m \u001b[0mf1_score\u001b[0m\u001b[1;33m(\u001b[0m\u001b[0my_valid\u001b[0m\u001b[1;33m,\u001b[0m \u001b[0moof_preds\u001b[0m\u001b[1;33m[\u001b[0m\u001b[0mvalid_idx\u001b[0m\u001b[1;33m]\u001b[0m\u001b[1;33m,\u001b[0m \u001b[0maverage\u001b[0m\u001b[1;33m=\u001b[0m\u001b[1;34m'macro'\u001b[0m\u001b[1;33m)\u001b[0m\u001b[1;33m\u001b[0m\u001b[1;33m\u001b[0m\u001b[0m\n",
      "\u001b[1;31mIndexError\u001b[0m: too many indices for array: array is 1-dimensional, but 2 were indexed"
     ]
    }
   ],
   "source": [
    "cv = KFold(n_splits=8, random_state=282, shuffle=True)\n",
    "\n",
    "lgb_estimators, lgb_oof_preds = lightgbm_cross_validation(\n",
    "    params=lgbm_params, X=train, y=target, cv=cv)\n",
    "\n",
    "# метрика качества\n",
    "lgb_oof_score = f1_score(\n",
    "    target, lgb_oof_preds\n",
    ")\n",
    "print(f\"OOF-score = {lgb_oof_score}\")"
   ]
  },
  {
   "cell_type": "code",
   "execution_count": null,
   "id": "213f256b",
   "metadata": {},
   "outputs": [],
   "source": []
  }
 ],
 "metadata": {
  "kernelspec": {
   "display_name": "Python 3",
   "language": "python",
   "name": "python3"
  },
  "language_info": {
   "codemirror_mode": {
    "name": "ipython",
    "version": 3
   },
   "file_extension": ".py",
   "mimetype": "text/x-python",
   "name": "python",
   "nbconvert_exporter": "python",
   "pygments_lexer": "ipython3",
   "version": "3.9.6"
  }
 },
 "nbformat": 4,
 "nbformat_minor": 5
}
